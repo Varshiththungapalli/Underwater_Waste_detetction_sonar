{
 "cells": [
  {
   "cell_type": "markdown",
   "metadata": {},
   "source": [
    "Image Preprocessing"
   ]
  },
  {
   "cell_type": "code",
   "execution_count": 7,
   "metadata": {},
   "outputs": [
    {
     "name": "stderr",
     "output_type": "stream",
     "text": [
      "C:\\Users\\VARSHITH\\AppData\\Local\\Packages\\PythonSoftwareFoundation.Python.3.11_qbz5n2kfra8p0\\LocalCache\\local-packages\\Python311\\site-packages\\tqdm\\auto.py:21: TqdmWarning: IProgress not found. Please update jupyter and ipywidgets. See https://ipywidgets.readthedocs.io/en/stable/user_install.html\n",
      "  from .autonotebook import tqdm as notebook_tqdm\n",
      "Processing Images: 100%|██████████| 1868/1868 [00:39<00:00, 47.87it/s]"
     ]
    },
    {
     "name": "stdout",
     "output_type": "stream",
     "text": [
      "✅ Image Preprocessing Complete! Images saved in: D:\\sonar seg\\preprocessed\\images\n"
     ]
    },
    {
     "name": "stderr",
     "output_type": "stream",
     "text": [
      "\n"
     ]
    }
   ],
   "source": [
    "import os\n",
    "import cv2\n",
    "import numpy as np\n",
    "import albumentations as A\n",
    "from tqdm import tqdm\n",
    "\n",
    "# Define Paths\n",
    "input_images_dir = r\"D:\\sonar seg\\dataset\\Images\"  # Change this to your sonar images folder\n",
    "output_images_dir = r\"D:\\sonar seg\\preprocessed\\images\"\n",
    "\n",
    "# Create output directory if it doesn't exist\n",
    "os.makedirs(output_images_dir, exist_ok=True)\n",
    "\n",
    "# Define Augmentations (for better segmentation performance)\n",
    "augmentations = A.Compose([\n",
    "    A.Resize(640, 640),  # Resize to YOLOv8 standard input size\n",
    "    A.HorizontalFlip(p=0.5),  # Flip images 50% of the time\n",
    "    A.Rotate(limit=15, p=0.5),  # Random small rotations\n",
    "    A.RandomBrightnessContrast(p=0.3),  # Adjust brightness/contrast\n",
    "    A.GaussianBlur(p=0.2)  # Slight blurring to reduce noise\n",
    "])\n",
    "\n",
    "# Function to preprocess sonar images\n",
    "def preprocess_sonar_image(image_path, output_path):\n",
    "    try:\n",
    "        # Load Image\n",
    "        image = cv2.imread(image_path)\n",
    "\n",
    "        if image is None:\n",
    "            print(f\"❌ Error loading image: {image_path}\")\n",
    "            return\n",
    "\n",
    "        # Convert to grayscale (optional for sonar images)\n",
    "        image = cv2.cvtColor(image, cv2.COLOR_BGR2GRAY)\n",
    "\n",
    "        # Apply CLAHE (Contrast Limited Adaptive Histogram Equalization)\n",
    "        clahe = cv2.createCLAHE(clipLimit=3.0, tileGridSize=(8, 8))\n",
    "        image = clahe.apply(image)\n",
    "\n",
    "        # Normalize image (bring pixel values between 0-255)\n",
    "        image = cv2.normalize(image, None, 0, 255, cv2.NORM_MINMAX)\n",
    "\n",
    "        # Convert back to 3-channel image (needed for YOLO training)\n",
    "        image = cv2.cvtColor(image, cv2.COLOR_GRAY2BGR)\n",
    "\n",
    "        # Apply augmentations\n",
    "        augmented = augmentations(image=image)\n",
    "        image = augmented[\"image\"]\n",
    "\n",
    "        # Save processed image\n",
    "        cv2.imwrite(output_path, image)\n",
    "\n",
    "    except Exception as e:\n",
    "        print(f\"⚠️ Error processing {image_path}: {e}\")\n",
    "\n",
    "# Process all images\n",
    "image_files = [f for f in os.listdir(input_images_dir) if f.endswith(('.jpg', '.png', '.jpeg'))]\n",
    "\n",
    "for image_name in tqdm(image_files, desc=\"Processing Images\"):\n",
    "    input_path = os.path.join(input_images_dir, image_name)\n",
    "    output_path = os.path.join(output_images_dir, image_name)\n",
    "    preprocess_sonar_image(input_path, output_path)\n",
    "\n",
    "print(\"✅ Image Preprocessing Complete! Images saved in:\", output_images_dir)\n"
   ]
  },
  {
   "cell_type": "markdown",
   "metadata": {},
   "source": [
    "Label Conversion"
   ]
  },
  {
   "cell_type": "code",
   "execution_count": 2,
   "metadata": {},
   "outputs": [
    {
     "name": "stdout",
     "output_type": "stream",
     "text": [
      " XML to YOLOv8 segmentation format conversion complete!\n"
     ]
    }
   ],
   "source": [
    "import os\n",
    "import xml.etree.ElementTree as ET\n",
    "import glob\n",
    "\n",
    "# Paths\n",
    "xml_folder = r\"D:\\sonar seg\\dataset\\BoxAnnotations\"  # Folder with XML files\n",
    "output_yolo_folder = r\"D:\\sonar seg\\preprocessed\\labels\"  # Output folder for YOLO labels\n",
    "os.makedirs(output_yolo_folder, exist_ok=True)\n",
    "\n",
    "# Class Mapping\n",
    "class_mapping = {\n",
    "    \"Bottle\": 0,\n",
    "    \"Can\": 1,\n",
    "    \"Chain\": 2,\n",
    "    \"Drink-carton\": 3,\n",
    "    \"Hook\": 4,\n",
    "    \"Propeller\": 5,\n",
    "    \"Shampoo-bottle\": 6,\n",
    "    \"Standing-bottle\": 7,\n",
    "    \"Tire\": 8,\n",
    "    \"Valve\": 9,\n",
    "    \"Wall\": 10\n",
    "}\n",
    "\n",
    "# Convert XML to YOLOv8 segmentation format\n",
    "def convert_xml_to_yolo(xml_file, output_file, img_width, img_height):\n",
    "    tree = ET.parse(xml_file)\n",
    "    root = tree.getroot()\n",
    "\n",
    "    with open(output_file, \"w\") as f:\n",
    "        object_found = False\n",
    "\n",
    "        for obj in root.findall(\"object\"):\n",
    "            class_name = obj.find(\"name\").text.strip()\n",
    "            if class_name not in class_mapping:\n",
    "                print(f\" Unknown class '{class_name}' in {xml_file}, skipping...\")\n",
    "                continue\n",
    "\n",
    "            class_id = class_mapping[class_name]\n",
    "\n",
    "            # Extract COCO-style bounding box (x, y, w, h)\n",
    "            bndbox = obj.find(\"bndbox\")\n",
    "            if bndbox is not None:\n",
    "                try:\n",
    "                    x = float(bndbox.find(\"x\").text)\n",
    "                    y = float(bndbox.find(\"y\").text)\n",
    "                    w = float(bndbox.find(\"w\").text)\n",
    "                    h = float(bndbox.find(\"h\").text)\n",
    "\n",
    "                    # Convert (x, y, w, h) → (xmin, ymin, xmax, ymax)\n",
    "                    xmin = x / img_width\n",
    "                    ymin = y / img_height\n",
    "                    xmax = (x + w) / img_width\n",
    "                    ymax = (y + h) / img_height\n",
    "\n",
    "                    # YOLOv8 expects segmentation points (rectangle for now)\n",
    "                    polygon = [xmin, ymin, xmax, ymin, xmax, ymax, xmin, ymax]\n",
    "                    f.write(f\"{class_id} \" + \" \".join(map(str, polygon)) + \"\\n\")\n",
    "                    object_found = True\n",
    "\n",
    "                except (AttributeError, ValueError):\n",
    "                    print(f\" Missing or invalid bounding box in: {xml_file}\")\n",
    "                    continue\n",
    "\n",
    "        if not object_found:\n",
    "            print(f\" No valid objects found in {xml_file}, skipping...\")\n",
    "\n",
    "# Process all XML files\n",
    "xml_files = glob.glob(os.path.join(xml_folder, \"*.xml\"))\n",
    "for xml_file in xml_files:\n",
    "    filename = os.path.basename(xml_file).replace(\".xml\", \".txt\")\n",
    "    output_file = os.path.join(output_yolo_folder, filename)\n",
    "\n",
    "    tree = ET.parse(xml_file)\n",
    "    root = tree.getroot()\n",
    "\n",
    "    try:\n",
    "        img_width = int(root.find(\"size/width\").text)\n",
    "        img_height = int(root.find(\"size/height\").text)\n",
    "    except (AttributeError, ValueError):\n",
    "        print(f\" ERROR: Missing or invalid <size> tag in {xml_file}\")\n",
    "        continue\n",
    "\n",
    "    convert_xml_to_yolo(xml_file, output_file, img_width, img_height)\n",
    "\n",
    "print(\" XML to YOLOv8 segmentation format conversion complete!\")\n"
   ]
  },
  {
   "cell_type": "markdown",
   "metadata": {},
   "source": [
    "Class Extraction"
   ]
  },
  {
   "cell_type": "code",
   "execution_count": 3,
   "metadata": {},
   "outputs": [
    {
     "name": "stdout",
     "output_type": "stream",
     "text": [
      "✅ Extracted 11 unique classes. Saved to: D:\\sonar seg\\preprocessed\\classes.txt\n",
      "Class Mapping:\n",
      "0: Bottle\n",
      "1: Can\n",
      "2: Chain\n",
      "3: Drink-carton\n",
      "4: Hook\n",
      "5: Propeller\n",
      "6: Shampoo-bottle\n",
      "7: Standing-bottle\n",
      "8: Tire\n",
      "9: Valve\n",
      "10: Wall\n"
     ]
    }
   ],
   "source": [
    "import os\n",
    "import xml.etree.ElementTree as ET\n",
    "import glob\n",
    "\n",
    "# Paths\n",
    "xml_folder = r\"D:\\sonar seg\\dataset\\BoxAnnotations\"  # Folder with XML files\n",
    "output_classes_file = r\"D:\\sonar seg\\preprocessed\\classes.txt\"  # Output file for class names\n",
    "\n",
    "# Extract unique class names\n",
    "unique_classes = set()\n",
    "\n",
    "# Process all XML files\n",
    "xml_files = glob.glob(os.path.join(xml_folder, \"*.xml\"))\n",
    "for xml_file in xml_files:\n",
    "    tree = ET.parse(xml_file)\n",
    "    root = tree.getroot()\n",
    "\n",
    "    for obj in root.findall(\"object\"):\n",
    "        class_name = obj.find(\"name\").text.strip()\n",
    "        unique_classes.add(class_name)\n",
    "\n",
    "# Sort classes alphabetically and assign class IDs\n",
    "sorted_classes = sorted(unique_classes)\n",
    "class_mapping = {class_name: idx for idx, class_name in enumerate(sorted_classes)}\n",
    "\n",
    "# Save class names with assigned IDs\n",
    "with open(output_classes_file, \"w\") as f:\n",
    "    for class_name, class_id in class_mapping.items():\n",
    "        f.write(f\"{class_id} {class_name}\\n\")\n",
    "\n",
    "# Print the mapping\n",
    "print(f\"✅ Extracted {len(sorted_classes)} unique classes. Saved to: {output_classes_file}\")\n",
    "print(\"Class Mapping:\")\n",
    "for class_name, class_id in class_mapping.items():\n",
    "    print(f\"{class_id}: {class_name}\")\n"
   ]
  },
  {
   "cell_type": "markdown",
   "metadata": {},
   "source": [
    "Test Train Val Split"
   ]
  },
  {
   "cell_type": "code",
   "execution_count": 20,
   "metadata": {},
   "outputs": [
    {
     "name": "stdout",
     "output_type": "stream",
     "text": [
      "Found 1868 label files in D:\\sonar seg\\preprocessed\\labels\n"
     ]
    }
   ],
   "source": [
    "print(f\"Found {len(os.listdir(labels_dir))} label files in {labels_dir}\")"
   ]
  },
  {
   "cell_type": "code",
   "execution_count": 5,
   "metadata": {},
   "outputs": [
    {
     "name": "stdout",
     "output_type": "stream",
     "text": [
      "Found 1868 label files in D:\\sonar seg\\preprocessed\\labels\n",
      "✅ Dataset split complete with exact class ratios!\n",
      "Train: 1302 | Val: 369 | Test: 197\n",
      "Files saved to: D:\\sonar seg\\ttv\n"
     ]
    }
   ],
   "source": [
    "import os\n",
    "import shutil\n",
    "import random\n",
    "from collections import defaultdict\n",
    "\n",
    "# ✅ Define dataset directories (SET YOUR PATHS HERE)\n",
    "images_dir = r\"D:\\sonar seg\\dataset\\Images\"\n",
    "labels_dir = r\"D:\\sonar seg\\preprocessed\\labels\"\n",
    "output_base_dir = r\"D:\\sonar seg\\ttv\"\n",
    "\n",
    "# Output directories\n",
    "output_dirs = {\n",
    "    \"train\": {\"images\": os.path.join(output_base_dir, \"train\", \"images\"),\n",
    "              \"labels\": os.path.join(output_base_dir, \"train\", \"labels\")},\n",
    "    \"val\": {\"images\": os.path.join(output_base_dir, \"val\", \"images\"),\n",
    "            \"labels\": os.path.join(output_base_dir, \"val\", \"labels\")},\n",
    "    \"test\": {\"images\": os.path.join(output_base_dir, \"test\", \"images\"),\n",
    "             \"labels\": os.path.join(output_base_dir, \"test\", \"labels\")}\n",
    "}\n",
    "\n",
    "# ✅ Create directories if they don't exist\n",
    "for split in output_dirs.values():\n",
    "    for path in split.values():\n",
    "        os.makedirs(path, exist_ok=True)\n",
    "\n",
    "# ✅ Organize files by class\n",
    "class_files = defaultdict(list)\n",
    "found_labels = os.listdir(labels_dir)\n",
    "\n",
    "if not found_labels:\n",
    "    print(\"❌ ERROR: No label files found in the labels directory!\")\n",
    "    exit()\n",
    "\n",
    "print(f\"Found {len(found_labels)} label files in {labels_dir}\")\n",
    "\n",
    "for label_file in found_labels:\n",
    "    if label_file.endswith(\".txt\"):\n",
    "        with open(os.path.join(labels_dir, label_file), \"r\") as f:\n",
    "            lines = f.readlines()\n",
    "            if lines:\n",
    "                class_id = int(lines[0].split()[0])  # Get the first class ID in the file\n",
    "                class_files[class_id].append(label_file)\n",
    "            else:\n",
    "                print(f\"⚠️ Empty label file: {label_file}\")\n",
    "\n",
    "# ✅ Split dataset while maintaining class balance\n",
    "train_files, val_files, test_files = [], [], []\n",
    "\n",
    "for class_id, files in class_files.items():\n",
    "    random.shuffle(files)\n",
    "\n",
    "    num_samples = len(files)\n",
    "    num_train = int(num_samples * 0.7)\n",
    "    num_val = int(num_samples * 0.2)\n",
    "    num_test = num_samples - (num_train + num_val)\n",
    "\n",
    "    train_files.extend(files[:num_train])\n",
    "    val_files.extend(files[num_train:num_train + num_val])\n",
    "    test_files.extend(files[num_train + num_val:])\n",
    "\n",
    "# ✅ Function to copy files\n",
    "def copy_files(file_list, split):\n",
    "    for label_file in file_list:\n",
    "        image_file = label_file.replace(\".txt\", \".png\")  # Assuming images are .jpg\n",
    "        src_label = os.path.join(labels_dir, label_file)\n",
    "        src_image = os.path.join(images_dir, image_file)\n",
    "\n",
    "        dst_label = os.path.join(output_dirs[split][\"labels\"], label_file)\n",
    "        dst_image = os.path.join(output_dirs[split][\"images\"], image_file)\n",
    "\n",
    "        if not os.path.exists(src_image):\n",
    "            print(f\"⚠️ Image missing: {src_image}\")\n",
    "            continue  # Skip missing images\n",
    "\n",
    "        shutil.copy(src_label, dst_label)\n",
    "        shutil.copy(src_image, dst_image)\n",
    "\n",
    "# ✅ Move files into respective folders\n",
    "copy_files(train_files, \"train\")\n",
    "copy_files(val_files, \"val\")\n",
    "copy_files(test_files, \"test\")\n",
    "\n",
    "print(\"✅ Dataset split complete with exact class ratios!\")\n",
    "print(f\"Train: {len(train_files)} | Val: {len(val_files)} | Test: {len(test_files)}\")\n",
    "print(f\"Files saved to: {output_base_dir}\")\n"
   ]
  },
  {
   "cell_type": "markdown",
   "metadata": {},
   "source": [
    "Training"
   ]
  },
  {
   "cell_type": "code",
   "execution_count": 6,
   "metadata": {},
   "outputs": [
    {
     "name": "stdout",
     "output_type": "stream",
     "text": [
      "Class Distribution in Training Set:\n",
      "Class 0: 468 instances\n",
      "Class 1: 292 instances\n",
      "Class 2: 320 instances\n",
      "Class 3: 347 instances\n",
      "Class 4: 171 instances\n",
      "Class 5: 197 instances\n",
      "Class 6: 111 instances\n",
      "Class 7: 65 instances\n",
      "Class 8: 615 instances\n",
      "Class 9: 240 instances\n",
      "Class 10: 1056 instances\n"
     ]
    }
   ],
   "source": [
    "import os\n",
    "import numpy as np\n",
    "\n",
    "# Path to label files\n",
    "labels_dir = r\"D:\\sonar seg\\preprocessed\\labels\"\n",
    "\n",
    "# Number of classes (Update if necessary)\n",
    "num_classes = 11  \n",
    "class_counts = np.zeros(num_classes, dtype=int)\n",
    "\n",
    "# Iterate over label files\n",
    "for label_file in os.listdir(labels_dir):\n",
    "    with open(os.path.join(labels_dir, label_file), \"r\") as f:\n",
    "        for line in f:\n",
    "            class_id = int(line.split()[0])  # Extract class ID\n",
    "            if 0 <= class_id < num_classes:\n",
    "                class_counts[class_id] += 1\n",
    "\n",
    "# Print class distribution\n",
    "print(\"Class Distribution in Training Set:\")\n",
    "for i, count in enumerate(class_counts):\n",
    "    print(f\"Class {i}: {count} instances\")\n"
   ]
  },
  {
   "cell_type": "code",
   "execution_count": 7,
   "metadata": {},
   "outputs": [
    {
     "name": "stdout",
     "output_type": "stream",
     "text": [
      "✅ Label verification complete!\n"
     ]
    }
   ],
   "source": [
    "import os\n",
    "\n",
    "label_dir = r\"D:\\sonar seg\\ttv\\train\\labels\"\n",
    "classes = set(range(11))  # Expected class IDs\n",
    "\n",
    "for label_file in os.listdir(label_dir):\n",
    "    with open(os.path.join(label_dir, label_file), \"r\") as f:\n",
    "        for line in f:\n",
    "            class_id = int(line.split()[0])\n",
    "            if class_id not in classes:\n",
    "                print(f\"❌ Invalid class ID {class_id} in {label_file}\")\n",
    "print(\"✅ Label verification complete!\")"
   ]
  },
  {
   "cell_type": "code",
   "execution_count": 8,
   "metadata": {},
   "outputs": [],
   "source": [
    "import os\n",
    "import shutil\n",
    "import random\n",
    "from tqdm import tqdm\n",
    "from ultralytics import YOLO\n",
    "import yaml"
   ]
  },
  {
   "cell_type": "code",
   "execution_count": 10,
   "metadata": {},
   "outputs": [],
   "source": [
    "import os\n",
    "\n",
    "labels_dir = r\"D:/sonar seg/ttv/train/labels\"\n",
    "empty_files = [f for f in os.listdir(labels_dir) if os.path.getsize(os.path.join(labels_dir, f)) == 0]\n",
    "\n",
    "if empty_files:\n",
    "    print(f\" Warning: {len(empty_files)} empty label files found!\")\n",
    "    print(empty_files)"
   ]
  },
  {
   "cell_type": "code",
   "execution_count": 12,
   "metadata": {},
   "outputs": [
    {
     "name": "stdout",
     "output_type": "stream",
     "text": [
      " All images have matching labels.\n"
     ]
    }
   ],
   "source": [
    "import os\n",
    "\n",
    "image_dir = r\"D:/sonar seg/ttv/train/images\"\n",
    "label_dir = r\"D:/sonar seg/ttv/train/labels\"\n",
    "\n",
    "image_files = {os.path.splitext(f)[0] for f in os.listdir(image_dir) if f.endswith('.jpg') or f.endswith('.png')}\n",
    "label_files = {os.path.splitext(f)[0] for f in os.listdir(label_dir) if f.endswith('.txt')}\n",
    "\n",
    "missing_labels = image_files - label_files\n",
    "missing_images = label_files - image_files\n",
    "\n",
    "if missing_labels:\n",
    "    print(\"🚨 Images without labels:\", missing_labels)\n",
    "if missing_images:\n",
    "    print(\"🚨 Labels without images:\", missing_images)\n",
    "\n",
    "if not missing_labels and not missing_images:\n",
    "    print(\" All images have matching labels.\")"
   ]
  },
  {
   "cell_type": "code",
   "execution_count": 13,
   "metadata": {},
   "outputs": [
    {
     "name": "stdout",
     "output_type": "stream",
     "text": [
      " No empty label files.\n"
     ]
    }
   ],
   "source": [
    "empty_files = [f for f in os.listdir(label_dir) if os.path.getsize(os.path.join(label_dir, f)) == 0]\n",
    "\n",
    "if empty_files:\n",
    "    print(\" Empty label files found:\", empty_files)\n",
    "else:\n",
    "    print(\" No empty label files.\")"
   ]
  },
  {
   "cell_type": "code",
   "execution_count": 14,
   "metadata": {},
   "outputs": [
    {
     "name": "stdout",
     "output_type": "stream",
     "text": [
      " Using device: cuda\n",
      "New https://pypi.org/project/ultralytics/8.3.88 available  Update with 'pip install -U ultralytics'\n",
      "Ultralytics 8.3.83  Python-3.11.9 torch-2.5.1+cu121 CUDA:0 (NVIDIA GeForce RTX 3050 Laptop GPU, 4096MiB)\n",
      "\u001b[34m\u001b[1mengine\\trainer: \u001b[0mtask=segment, mode=train, model=yolov8n-seg.pt, data=D:\\sonar seg\\data.yaml, epochs=20, time=None, patience=100, batch=16, imgsz=640, save=True, save_period=5, cache=False, device=cuda, workers=4, project=D:/sonar seg/ttv/runs/segment, name=yolov8_sonar_seg3, exist_ok=False, pretrained=True, optimizer=AdamW, verbose=True, seed=0, deterministic=True, single_cls=False, rect=False, cos_lr=False, close_mosaic=10, resume=False, amp=True, fraction=1.0, profile=False, freeze=None, multi_scale=False, overlap_mask=True, mask_ratio=4, dropout=0.0, val=True, split=val, save_json=False, save_hybrid=False, conf=None, iou=0.7, max_det=300, half=False, dnn=False, plots=True, source=None, vid_stride=1, stream_buffer=False, visualize=False, augment=False, agnostic_nms=False, classes=None, retina_masks=False, embed=None, show=False, save_frames=False, save_txt=False, save_conf=False, save_crop=False, show_labels=True, show_conf=True, show_boxes=True, line_width=None, format=torchscript, keras=False, optimize=False, int8=False, dynamic=False, simplify=True, opset=None, workspace=None, nms=False, lr0=0.01, lrf=0.01, momentum=0.937, weight_decay=0.0005, warmup_epochs=3.0, warmup_momentum=0.8, warmup_bias_lr=0.1, box=7.5, cls=0.5, dfl=1.5, pose=12.0, kobj=1.0, nbs=64, hsv_h=0.015, hsv_s=0.7, hsv_v=0.4, degrees=0.0, translate=0.1, scale=0.5, shear=0.0, perspective=0.0, flipud=0.0, fliplr=0.5, bgr=0.0, mosaic=1.0, mixup=0.0, copy_paste=0.0, copy_paste_mode=flip, auto_augment=randaugment, erasing=0.4, crop_fraction=1.0, cfg=None, tracker=botsort.yaml, save_dir=D:\\sonar seg\\ttv\\runs\\segment\\yolov8_sonar_seg3\n",
      "Overriding model.yaml nc=80 with nc=11\n",
      "\n",
      "                   from  n    params  module                                       arguments                     \n",
      "  0                  -1  1       464  ultralytics.nn.modules.conv.Conv             [3, 16, 3, 2]                 \n",
      "  1                  -1  1      4672  ultralytics.nn.modules.conv.Conv             [16, 32, 3, 2]                \n",
      "  2                  -1  1      7360  ultralytics.nn.modules.block.C2f             [32, 32, 1, True]             \n",
      "  3                  -1  1     18560  ultralytics.nn.modules.conv.Conv             [32, 64, 3, 2]                \n",
      "  4                  -1  2     49664  ultralytics.nn.modules.block.C2f             [64, 64, 2, True]             \n",
      "  5                  -1  1     73984  ultralytics.nn.modules.conv.Conv             [64, 128, 3, 2]               \n",
      "  6                  -1  2    197632  ultralytics.nn.modules.block.C2f             [128, 128, 2, True]           \n",
      "  7                  -1  1    295424  ultralytics.nn.modules.conv.Conv             [128, 256, 3, 2]              \n",
      "  8                  -1  1    460288  ultralytics.nn.modules.block.C2f             [256, 256, 1, True]           \n",
      "  9                  -1  1    164608  ultralytics.nn.modules.block.SPPF            [256, 256, 5]                 \n",
      " 10                  -1  1         0  torch.nn.modules.upsampling.Upsample         [None, 2, 'nearest']          \n",
      " 11             [-1, 6]  1         0  ultralytics.nn.modules.conv.Concat           [1]                           \n",
      " 12                  -1  1    148224  ultralytics.nn.modules.block.C2f             [384, 128, 1]                 \n",
      " 13                  -1  1         0  torch.nn.modules.upsampling.Upsample         [None, 2, 'nearest']          \n",
      " 14             [-1, 4]  1         0  ultralytics.nn.modules.conv.Concat           [1]                           \n",
      " 15                  -1  1     37248  ultralytics.nn.modules.block.C2f             [192, 64, 1]                  \n",
      " 16                  -1  1     36992  ultralytics.nn.modules.conv.Conv             [64, 64, 3, 2]                \n",
      " 17            [-1, 12]  1         0  ultralytics.nn.modules.conv.Concat           [1]                           \n",
      " 18                  -1  1    123648  ultralytics.nn.modules.block.C2f             [192, 128, 1]                 \n",
      " 19                  -1  1    147712  ultralytics.nn.modules.conv.Conv             [128, 128, 3, 2]              \n",
      " 20             [-1, 9]  1         0  ultralytics.nn.modules.conv.Concat           [1]                           \n",
      " 21                  -1  1    493056  ultralytics.nn.modules.block.C2f             [384, 256, 1]                 \n",
      " 22        [15, 18, 21]  1   1006225  ultralytics.nn.modules.head.Segment          [11, 32, 64, [64, 128, 256]]  \n",
      "YOLOv8n-seg summary: 151 layers, 3,265,761 parameters, 3,265,745 gradients, 12.1 GFLOPs\n",
      "\n",
      "Transferred 381/417 items from pretrained weights\n",
      "\u001b[34m\u001b[1mTensorBoard: \u001b[0mStart with 'tensorboard --logdir D:\\sonar seg\\ttv\\runs\\segment\\yolov8_sonar_seg3', view at http://localhost:6006/\n",
      "Freezing layer 'model.22.dfl.conv.weight'\n",
      "\u001b[34m\u001b[1mAMP: \u001b[0mrunning Automatic Mixed Precision (AMP) checks...\n",
      "\u001b[34m\u001b[1mAMP: \u001b[0mchecks passed \n"
     ]
    },
    {
     "name": "stderr",
     "output_type": "stream",
     "text": [
      "\u001b[34m\u001b[1mtrain: \u001b[0mScanning D:\\sonar seg\\ttv\\train\\labels... 1302 images, 0 backgrounds, 0 corrupt: 100%|██████████| 1302/1302 [00:02<00:00, 628.26it/s]\n"
     ]
    },
    {
     "name": "stdout",
     "output_type": "stream",
     "text": [
      "\u001b[34m\u001b[1mtrain: \u001b[0mNew cache created: D:\\sonar seg\\ttv\\train\\labels.cache\n",
      "\u001b[34m\u001b[1malbumentations: \u001b[0mBlur(p=0.01, blur_limit=(3, 7)), MedianBlur(p=0.01, blur_limit=(3, 7)), ToGray(p=0.01, num_output_channels=3, method='weighted_average'), CLAHE(p=0.01, clip_limit=(1.0, 4.0), tile_grid_size=(8, 8))\n"
     ]
    },
    {
     "name": "stderr",
     "output_type": "stream",
     "text": [
      "\u001b[34m\u001b[1mval: \u001b[0mScanning D:\\sonar seg\\ttv\\val\\labels.cache... 369 images, 0 backgrounds, 0 corrupt: 100%|██████████| 369/369 [00:00<?, ?it/s]\n"
     ]
    },
    {
     "name": "stdout",
     "output_type": "stream",
     "text": [
      "Plotting labels to D:\\sonar seg\\ttv\\runs\\segment\\yolov8_sonar_seg3\\labels.jpg... \n",
      "\u001b[34m\u001b[1moptimizer:\u001b[0m AdamW(lr=0.01, momentum=0.937) with parameter groups 66 weight(decay=0.0), 77 weight(decay=0.0005), 76 bias(decay=0.0)\n",
      "\u001b[34m\u001b[1mTensorBoard: \u001b[0mmodel graph visualization added \n",
      "Image sizes 640 train, 640 val\n",
      "Using 4 dataloader workers\n",
      "Logging results to \u001b[1mD:\\sonar seg\\ttv\\runs\\segment\\yolov8_sonar_seg3\u001b[0m\n",
      "Starting training for 20 epochs...\n",
      "\n",
      "      Epoch    GPU_mem   box_loss   seg_loss   cls_loss   dfl_loss  Instances       Size\n"
     ]
    },
    {
     "name": "stderr",
     "output_type": "stream",
     "text": [
      "       1/20      4.53G      1.745      1.586      2.865      1.553         31        640: 100%|██████████| 82/82 [01:27<00:00,  1.07s/it]\n",
      "                 Class     Images  Instances      Box(P          R      mAP50  mAP50-95)     Mask(P          R      mAP50  mAP50-95): 100%|██████████| 12/12 [00:12<00:00,  1.04s/it]"
     ]
    },
    {
     "name": "stdout",
     "output_type": "stream",
     "text": [
      "                   all        369        756      0.133      0.382       0.13     0.0724      0.122      0.367      0.122     0.0639\n"
     ]
    },
    {
     "name": "stderr",
     "output_type": "stream",
     "text": [
      "\n"
     ]
    },
    {
     "name": "stdout",
     "output_type": "stream",
     "text": [
      "\n",
      "      Epoch    GPU_mem   box_loss   seg_loss   cls_loss   dfl_loss  Instances       Size\n"
     ]
    },
    {
     "name": "stderr",
     "output_type": "stream",
     "text": [
      "       2/20      4.62G      1.592     0.8714      1.903      1.487         19        640: 100%|██████████| 82/82 [01:58<00:00,  1.44s/it]\n",
      "                 Class     Images  Instances      Box(P          R      mAP50  mAP50-95)     Mask(P          R      mAP50  mAP50-95): 100%|██████████| 12/12 [00:10<00:00,  1.14it/s]"
     ]
    },
    {
     "name": "stdout",
     "output_type": "stream",
     "text": [
      "                   all        369        756      0.589       0.19      0.193     0.0927       0.58      0.188      0.192     0.0926\n"
     ]
    },
    {
     "name": "stderr",
     "output_type": "stream",
     "text": [
      "\n"
     ]
    },
    {
     "name": "stdout",
     "output_type": "stream",
     "text": [
      "\n",
      "      Epoch    GPU_mem   box_loss   seg_loss   cls_loss   dfl_loss  Instances       Size\n"
     ]
    },
    {
     "name": "stderr",
     "output_type": "stream",
     "text": [
      "       3/20      4.56G      1.497     0.8148      1.627       1.44         19        640: 100%|██████████| 82/82 [02:02<00:00,  1.49s/it]\n",
      "                 Class     Images  Instances      Box(P          R      mAP50  mAP50-95)     Mask(P          R      mAP50  mAP50-95): 100%|██████████| 12/12 [00:16<00:00,  1.35s/it]"
     ]
    },
    {
     "name": "stdout",
     "output_type": "stream",
     "text": [
      "                   all        369        756      0.403      0.403      0.335      0.163      0.406       0.37      0.335       0.15\n"
     ]
    },
    {
     "name": "stderr",
     "output_type": "stream",
     "text": [
      "\n"
     ]
    },
    {
     "name": "stdout",
     "output_type": "stream",
     "text": [
      "\n",
      "      Epoch    GPU_mem   box_loss   seg_loss   cls_loss   dfl_loss  Instances       Size\n"
     ]
    },
    {
     "name": "stderr",
     "output_type": "stream",
     "text": [
      "       4/20      4.56G      1.453     0.8168      1.466      1.418         30        640: 100%|██████████| 82/82 [02:09<00:00,  1.58s/it]\n",
      "                 Class     Images  Instances      Box(P          R      mAP50  mAP50-95)     Mask(P          R      mAP50  mAP50-95): 100%|██████████| 12/12 [00:12<00:00,  1.05s/it]"
     ]
    },
    {
     "name": "stdout",
     "output_type": "stream",
     "text": [
      "                   all        369        756      0.628      0.532      0.648      0.393      0.635      0.529      0.641      0.359\n"
     ]
    },
    {
     "name": "stderr",
     "output_type": "stream",
     "text": [
      "\n"
     ]
    },
    {
     "name": "stdout",
     "output_type": "stream",
     "text": [
      "\n",
      "      Epoch    GPU_mem   box_loss   seg_loss   cls_loss   dfl_loss  Instances       Size\n"
     ]
    },
    {
     "name": "stderr",
     "output_type": "stream",
     "text": [
      "       5/20      4.58G      1.343     0.7988      1.328      1.331         34        640: 100%|██████████| 82/82 [01:54<00:00,  1.39s/it]\n",
      "                 Class     Images  Instances      Box(P          R      mAP50  mAP50-95)     Mask(P          R      mAP50  mAP50-95): 100%|██████████| 12/12 [00:12<00:00,  1.02s/it]"
     ]
    },
    {
     "name": "stdout",
     "output_type": "stream",
     "text": [
      "                   all        369        756      0.654      0.662      0.692      0.429       0.65      0.656      0.689      0.395\n"
     ]
    },
    {
     "name": "stderr",
     "output_type": "stream",
     "text": [
      "\n"
     ]
    },
    {
     "name": "stdout",
     "output_type": "stream",
     "text": [
      "\n",
      "      Epoch    GPU_mem   box_loss   seg_loss   cls_loss   dfl_loss  Instances       Size\n"
     ]
    },
    {
     "name": "stderr",
     "output_type": "stream",
     "text": [
      "       6/20      4.54G      1.329     0.7768       1.23      1.327         32        640: 100%|██████████| 82/82 [01:53<00:00,  1.38s/it]\n",
      "                 Class     Images  Instances      Box(P          R      mAP50  mAP50-95)     Mask(P          R      mAP50  mAP50-95): 100%|██████████| 12/12 [00:13<00:00,  1.15s/it]"
     ]
    },
    {
     "name": "stdout",
     "output_type": "stream",
     "text": [
      "                   all        369        756      0.773       0.61      0.765       0.46      0.768      0.618      0.766      0.418\n"
     ]
    },
    {
     "name": "stderr",
     "output_type": "stream",
     "text": [
      "\n"
     ]
    },
    {
     "name": "stdout",
     "output_type": "stream",
     "text": [
      "\n",
      "      Epoch    GPU_mem   box_loss   seg_loss   cls_loss   dfl_loss  Instances       Size\n"
     ]
    },
    {
     "name": "stderr",
     "output_type": "stream",
     "text": [
      "       7/20      4.55G      1.281     0.7593      1.154        1.3         21        640: 100%|██████████| 82/82 [01:42<00:00,  1.26s/it]\n",
      "                 Class     Images  Instances      Box(P          R      mAP50  mAP50-95)     Mask(P          R      mAP50  mAP50-95): 100%|██████████| 12/12 [00:12<00:00,  1.03s/it]"
     ]
    },
    {
     "name": "stdout",
     "output_type": "stream",
     "text": [
      "                   all        369        756      0.641      0.572      0.636      0.384      0.628      0.571      0.625      0.349\n"
     ]
    },
    {
     "name": "stderr",
     "output_type": "stream",
     "text": [
      "\n"
     ]
    },
    {
     "name": "stdout",
     "output_type": "stream",
     "text": [
      "\n",
      "      Epoch    GPU_mem   box_loss   seg_loss   cls_loss   dfl_loss  Instances       Size\n"
     ]
    },
    {
     "name": "stderr",
     "output_type": "stream",
     "text": [
      "       8/20      4.54G      1.206     0.7303       1.08      1.252         26        640: 100%|██████████| 82/82 [01:47<00:00,  1.31s/it]\n",
      "                 Class     Images  Instances      Box(P          R      mAP50  mAP50-95)     Mask(P          R      mAP50  mAP50-95): 100%|██████████| 12/12 [00:12<00:00,  1.07s/it]"
     ]
    },
    {
     "name": "stdout",
     "output_type": "stream",
     "text": [
      "                   all        369        756      0.774      0.749      0.834      0.488      0.762      0.738      0.815      0.442\n"
     ]
    },
    {
     "name": "stderr",
     "output_type": "stream",
     "text": [
      "\n"
     ]
    },
    {
     "name": "stdout",
     "output_type": "stream",
     "text": [
      "\n",
      "      Epoch    GPU_mem   box_loss   seg_loss   cls_loss   dfl_loss  Instances       Size\n"
     ]
    },
    {
     "name": "stderr",
     "output_type": "stream",
     "text": [
      "       9/20      4.58G      1.201     0.7232      1.052      1.246         25        640: 100%|██████████| 82/82 [01:36<00:00,  1.17s/it]\n",
      "                 Class     Images  Instances      Box(P          R      mAP50  mAP50-95)     Mask(P          R      mAP50  mAP50-95): 100%|██████████| 12/12 [00:12<00:00,  1.03s/it]"
     ]
    },
    {
     "name": "stdout",
     "output_type": "stream",
     "text": [
      "                   all        369        756      0.767      0.789      0.852      0.543      0.766      0.791      0.857      0.503\n"
     ]
    },
    {
     "name": "stderr",
     "output_type": "stream",
     "text": [
      "\n"
     ]
    },
    {
     "name": "stdout",
     "output_type": "stream",
     "text": [
      "\n",
      "      Epoch    GPU_mem   box_loss   seg_loss   cls_loss   dfl_loss  Instances       Size\n"
     ]
    },
    {
     "name": "stderr",
     "output_type": "stream",
     "text": [
      "      10/20      4.62G      1.186     0.7368      1.022      1.245         11        640: 100%|██████████| 82/82 [01:44<00:00,  1.28s/it]\n",
      "                 Class     Images  Instances      Box(P          R      mAP50  mAP50-95)     Mask(P          R      mAP50  mAP50-95): 100%|██████████| 12/12 [00:15<00:00,  1.33s/it]"
     ]
    },
    {
     "name": "stdout",
     "output_type": "stream",
     "text": [
      "                   all        369        756      0.823      0.803      0.904      0.608      0.827      0.805       0.91      0.574\n"
     ]
    },
    {
     "name": "stderr",
     "output_type": "stream",
     "text": [
      "\n"
     ]
    },
    {
     "name": "stdout",
     "output_type": "stream",
     "text": [
      "Closing dataloader mosaic\n",
      "\u001b[34m\u001b[1malbumentations: \u001b[0mBlur(p=0.01, blur_limit=(3, 7)), MedianBlur(p=0.01, blur_limit=(3, 7)), ToGray(p=0.01, num_output_channels=3, method='weighted_average'), CLAHE(p=0.01, clip_limit=(1.0, 4.0), tile_grid_size=(8, 8))\n",
      "\n",
      "      Epoch    GPU_mem   box_loss   seg_loss   cls_loss   dfl_loss  Instances       Size\n"
     ]
    },
    {
     "name": "stderr",
     "output_type": "stream",
     "text": [
      "      11/20      4.49G      1.112     0.6614     0.9044      1.221         13        640: 100%|██████████| 82/82 [01:39<00:00,  1.22s/it]\n",
      "                 Class     Images  Instances      Box(P          R      mAP50  mAP50-95)     Mask(P          R      mAP50  mAP50-95): 100%|██████████| 12/12 [00:12<00:00,  1.06s/it]"
     ]
    },
    {
     "name": "stdout",
     "output_type": "stream",
     "text": [
      "                   all        369        756       0.84      0.762      0.879      0.565      0.833       0.76      0.872       0.51\n"
     ]
    },
    {
     "name": "stderr",
     "output_type": "stream",
     "text": [
      "\n"
     ]
    },
    {
     "name": "stdout",
     "output_type": "stream",
     "text": [
      "\n",
      "      Epoch    GPU_mem   box_loss   seg_loss   cls_loss   dfl_loss  Instances       Size\n"
     ]
    },
    {
     "name": "stderr",
     "output_type": "stream",
     "text": [
      "      12/20       4.5G      1.113     0.6388     0.8662      1.224         11        640: 100%|██████████| 82/82 [01:40<00:00,  1.22s/it]\n",
      "                 Class     Images  Instances      Box(P          R      mAP50  mAP50-95)     Mask(P          R      mAP50  mAP50-95): 100%|██████████| 12/12 [00:12<00:00,  1.08s/it]"
     ]
    },
    {
     "name": "stdout",
     "output_type": "stream",
     "text": [
      "                   all        369        756      0.841      0.825      0.914      0.608      0.836      0.824      0.909      0.544\n"
     ]
    },
    {
     "name": "stderr",
     "output_type": "stream",
     "text": [
      "\n"
     ]
    },
    {
     "name": "stdout",
     "output_type": "stream",
     "text": [
      "\n",
      "      Epoch    GPU_mem   box_loss   seg_loss   cls_loss   dfl_loss  Instances       Size\n"
     ]
    },
    {
     "name": "stderr",
     "output_type": "stream",
     "text": [
      "      13/20       4.5G      1.063     0.6268     0.8107      1.181          8        640: 100%|██████████| 82/82 [01:38<00:00,  1.20s/it]\n",
      "                 Class     Images  Instances      Box(P          R      mAP50  mAP50-95)     Mask(P          R      mAP50  mAP50-95): 100%|██████████| 12/12 [00:11<00:00,  1.04it/s]"
     ]
    },
    {
     "name": "stdout",
     "output_type": "stream",
     "text": [
      "                   all        369        756      0.886      0.837      0.916      0.613      0.878       0.84      0.913      0.557\n"
     ]
    },
    {
     "name": "stderr",
     "output_type": "stream",
     "text": [
      "\n"
     ]
    },
    {
     "name": "stdout",
     "output_type": "stream",
     "text": [
      "\n",
      "      Epoch    GPU_mem   box_loss   seg_loss   cls_loss   dfl_loss  Instances       Size\n"
     ]
    },
    {
     "name": "stderr",
     "output_type": "stream",
     "text": [
      "      14/20       4.5G      1.048     0.6212     0.7901      1.175         12        640: 100%|██████████| 82/82 [01:39<00:00,  1.21s/it]\n",
      "                 Class     Images  Instances      Box(P          R      mAP50  mAP50-95)     Mask(P          R      mAP50  mAP50-95): 100%|██████████| 12/12 [00:09<00:00,  1.29it/s]"
     ]
    },
    {
     "name": "stdout",
     "output_type": "stream",
     "text": [
      "                   all        369        756      0.908      0.893      0.946      0.631      0.907       0.89      0.941      0.597\n"
     ]
    },
    {
     "name": "stderr",
     "output_type": "stream",
     "text": [
      "\n"
     ]
    },
    {
     "name": "stdout",
     "output_type": "stream",
     "text": [
      "\n",
      "      Epoch    GPU_mem   box_loss   seg_loss   cls_loss   dfl_loss  Instances       Size\n"
     ]
    },
    {
     "name": "stderr",
     "output_type": "stream",
     "text": [
      "      15/20      4.48G      1.021      0.631     0.7494      1.151         13        640: 100%|██████████| 82/82 [01:45<00:00,  1.29s/it]\n",
      "                 Class     Images  Instances      Box(P          R      mAP50  mAP50-95)     Mask(P          R      mAP50  mAP50-95): 100%|██████████| 12/12 [00:11<00:00,  1.05it/s]"
     ]
    },
    {
     "name": "stdout",
     "output_type": "stream",
     "text": [
      "                   all        369        756      0.887      0.899      0.947      0.641      0.886        0.9      0.945      0.572\n"
     ]
    },
    {
     "name": "stderr",
     "output_type": "stream",
     "text": [
      "\n"
     ]
    },
    {
     "name": "stdout",
     "output_type": "stream",
     "text": [
      "\n",
      "      Epoch    GPU_mem   box_loss   seg_loss   cls_loss   dfl_loss  Instances       Size\n"
     ]
    },
    {
     "name": "stderr",
     "output_type": "stream",
     "text": [
      "      16/20      4.48G      1.009     0.6201     0.7179      1.139         12        640: 100%|██████████| 82/82 [01:42<00:00,  1.25s/it]\n",
      "                 Class     Images  Instances      Box(P          R      mAP50  mAP50-95)     Mask(P          R      mAP50  mAP50-95): 100%|██████████| 12/12 [00:09<00:00,  1.24it/s]"
     ]
    },
    {
     "name": "stdout",
     "output_type": "stream",
     "text": [
      "                   all        369        756        0.9      0.924      0.953      0.669        0.9      0.924      0.953      0.631\n"
     ]
    },
    {
     "name": "stderr",
     "output_type": "stream",
     "text": [
      "\n"
     ]
    },
    {
     "name": "stdout",
     "output_type": "stream",
     "text": [
      "\n",
      "      Epoch    GPU_mem   box_loss   seg_loss   cls_loss   dfl_loss  Instances       Size\n"
     ]
    },
    {
     "name": "stderr",
     "output_type": "stream",
     "text": [
      "      17/20      4.48G     0.9798     0.6187     0.7057      1.124         13        640: 100%|██████████| 82/82 [01:44<00:00,  1.27s/it]\n",
      "                 Class     Images  Instances      Box(P          R      mAP50  mAP50-95)     Mask(P          R      mAP50  mAP50-95): 100%|██████████| 12/12 [00:09<00:00,  1.27it/s]"
     ]
    },
    {
     "name": "stdout",
     "output_type": "stream",
     "text": [
      "                   all        369        756      0.924      0.894       0.95      0.671      0.927       0.89      0.948      0.621\n"
     ]
    },
    {
     "name": "stderr",
     "output_type": "stream",
     "text": [
      "\n"
     ]
    },
    {
     "name": "stdout",
     "output_type": "stream",
     "text": [
      "\n",
      "      Epoch    GPU_mem   box_loss   seg_loss   cls_loss   dfl_loss  Instances       Size\n"
     ]
    },
    {
     "name": "stderr",
     "output_type": "stream",
     "text": [
      "      18/20       4.5G     0.9584      0.608     0.6746      1.115         12        640: 100%|██████████| 82/82 [00:53<00:00,  1.54it/s]\n",
      "                 Class     Images  Instances      Box(P          R      mAP50  mAP50-95)     Mask(P          R      mAP50  mAP50-95): 100%|██████████| 12/12 [00:09<00:00,  1.23it/s]"
     ]
    },
    {
     "name": "stdout",
     "output_type": "stream",
     "text": [
      "                   all        369        756      0.925      0.899      0.952      0.687      0.922      0.897      0.949      0.598\n"
     ]
    },
    {
     "name": "stderr",
     "output_type": "stream",
     "text": [
      "\n"
     ]
    },
    {
     "name": "stdout",
     "output_type": "stream",
     "text": [
      "\n",
      "      Epoch    GPU_mem   box_loss   seg_loss   cls_loss   dfl_loss  Instances       Size\n"
     ]
    },
    {
     "name": "stderr",
     "output_type": "stream",
     "text": [
      "      19/20      4.48G     0.9283     0.6005     0.6424        1.1         14        640: 100%|██████████| 82/82 [00:46<00:00,  1.75it/s]\n",
      "                 Class     Images  Instances      Box(P          R      mAP50  mAP50-95)     Mask(P          R      mAP50  mAP50-95): 100%|██████████| 12/12 [00:09<00:00,  1.24it/s]"
     ]
    },
    {
     "name": "stdout",
     "output_type": "stream",
     "text": [
      "                   all        369        756      0.908      0.953      0.955      0.689      0.907      0.952      0.953      0.641\n"
     ]
    },
    {
     "name": "stderr",
     "output_type": "stream",
     "text": [
      "\n"
     ]
    },
    {
     "name": "stdout",
     "output_type": "stream",
     "text": [
      "\n",
      "      Epoch    GPU_mem   box_loss   seg_loss   cls_loss   dfl_loss  Instances       Size\n"
     ]
    },
    {
     "name": "stderr",
     "output_type": "stream",
     "text": [
      "      20/20       4.5G     0.9045     0.5844     0.6147      1.084         15        640: 100%|██████████| 82/82 [00:51<00:00,  1.59it/s]\n",
      "                 Class     Images  Instances      Box(P          R      mAP50  mAP50-95)     Mask(P          R      mAP50  mAP50-95): 100%|██████████| 12/12 [00:09<00:00,  1.30it/s]"
     ]
    },
    {
     "name": "stdout",
     "output_type": "stream",
     "text": [
      "                   all        369        756      0.926      0.954      0.961      0.711      0.926      0.954      0.961      0.662\n"
     ]
    },
    {
     "name": "stderr",
     "output_type": "stream",
     "text": [
      "\n"
     ]
    },
    {
     "name": "stdout",
     "output_type": "stream",
     "text": [
      "\n",
      "20 epochs completed in 0.624 hours.\n",
      "Optimizer stripped from D:\\sonar seg\\ttv\\runs\\segment\\yolov8_sonar_seg3\\weights\\last.pt, 6.8MB\n",
      "Optimizer stripped from D:\\sonar seg\\ttv\\runs\\segment\\yolov8_sonar_seg3\\weights\\best.pt, 6.8MB\n",
      "\n",
      "Validating D:\\sonar seg\\ttv\\runs\\segment\\yolov8_sonar_seg3\\weights\\best.pt...\n",
      "Ultralytics 8.3.83  Python-3.11.9 torch-2.5.1+cu121 CUDA:0 (NVIDIA GeForce RTX 3050 Laptop GPU, 4096MiB)\n",
      "YOLOv8n-seg summary (fused): 85 layers, 3,260,209 parameters, 0 gradients, 12.0 GFLOPs\n"
     ]
    },
    {
     "name": "stderr",
     "output_type": "stream",
     "text": [
      "                 Class     Images  Instances      Box(P          R      mAP50  mAP50-95)     Mask(P          R      mAP50  mAP50-95): 100%|██████████| 12/12 [00:06<00:00,  1.77it/s]\n"
     ]
    },
    {
     "name": "stdout",
     "output_type": "stream",
     "text": [
      "                   all        369        756      0.926      0.954      0.961      0.711      0.926      0.954      0.961      0.661\n",
      "                Bottle         76         85      0.893      0.986      0.987      0.772      0.893      0.986      0.987      0.694\n",
      "                   Can         70         70      0.773      0.874      0.857      0.521      0.773      0.874      0.857      0.461\n",
      "                 Chain         69         70      0.915      0.929      0.964       0.72      0.915      0.929      0.964      0.708\n",
      "          Drink-carton         56         56       0.93      0.946      0.984      0.653       0.93      0.946      0.984      0.587\n",
      "                  Hook         34         35      0.966      0.971      0.977      0.726      0.966      0.971      0.977      0.697\n",
      "             Propeller         43         43      0.953      0.953       0.94      0.621      0.953      0.953       0.94      0.627\n",
      "        Shampoo-bottle         21         21      0.975      0.952      0.973      0.682      0.975      0.952      0.973      0.655\n",
      "       Standing-bottle         14         14      0.921          1      0.986      0.786      0.921          1      0.986      0.649\n",
      "                  Tire        114        114      0.981          1      0.995      0.841      0.981          1      0.995      0.789\n",
      "                 Valve         38         39       0.97      0.923      0.946      0.728       0.97      0.923      0.946      0.682\n",
      "                  Wall        181        209      0.904      0.957      0.964      0.769      0.909      0.962      0.967      0.725\n",
      "Speed: 0.4ms preprocess, 4.7ms inference, 0.0ms loss, 2.0ms postprocess per image\n",
      "Results saved to \u001b[1mD:\\sonar seg\\ttv\\runs\\segment\\yolov8_sonar_seg3\u001b[0m\n",
      " Training complete! Model saved in: D:/sonar seg/ttv/runs/segment\n"
     ]
    }
   ],
   "source": [
    "import torch\n",
    "from ultralytics import YOLO\n",
    "\n",
    "# Check if GPU is available\n",
    "device = \"cuda\" if torch.cuda.is_available() else \"cpu\"\n",
    "print(f\" Using device: {device}\")\n",
    "\n",
    "# Define dataset YAML file path\n",
    "DATA_YAML_PATH = r\"D:\\sonar seg\\data.yaml\"\n",
    "\n",
    "# Define model checkpoint save path\n",
    "OUTPUT_DIR = r\"D:/sonar seg/ttv/runs/segment\"\n",
    "\n",
    "# Load YOLOv8 segmentation model\n",
    "model = YOLO(\"yolov8n-seg.pt\")  # Use 'yolov8m-seg.pt' or 'yolov8l-seg.pt' for better accuracy\n",
    "\n",
    "# Train the model\n",
    "model.train(\n",
    "    data=DATA_YAML_PATH,  # Path to dataset config file\n",
    "    epochs=20,            # Increase epochs for better results\n",
    "    imgsz=640,            # Image size\n",
    "    batch=16,             # Batch size\n",
    "    device=device,        # Use GPU if available\n",
    "    workers=4,            # Number of CPU threads\n",
    "    project=OUTPUT_DIR,   # Where to save results\n",
    "    name=\"yolov8_sonar_seg\",  # Name of training run\n",
    "    save=True,            # Save best model\n",
    "    save_period=5,        # Save model every 5 epochs\n",
    "    val=True,             # Run validation after training\n",
    "    optimizer=\"AdamW\"     # Optimizer: 'SGD' or 'AdamW' (AdamW recommended)\n",
    ")\n",
    "\n",
    "print(f\" Training complete! Model saved in: {OUTPUT_DIR}\")"
   ]
  },
  {
   "cell_type": "code",
   "execution_count": 49,
   "metadata": {},
   "outputs": [
    {
     "name": "stdout",
     "output_type": "stream",
     "text": [
      " Using device: cuda\n",
      "New https://pypi.org/project/ultralytics/8.3.88 available  Update with 'pip install -U ultralytics'\n",
      "Ultralytics 8.3.83  Python-3.11.9 torch-2.5.1+cu121 CUDA:0 (NVIDIA GeForce RTX 3050 Laptop GPU, 4096MiB)\n",
      "\u001b[34m\u001b[1mengine\\trainer: \u001b[0mtask=segment, mode=train, model=D:\\sonar seg\\ttv\\runs\\segment\\yolov8_sonar_seg3\\weights\\last.pt, data=D:\\sonar seg\\data.yaml, epochs=20, time=None, patience=100, batch=16, imgsz=640, save=True, save_period=5, cache=False, device=cuda, workers=4, project=D:/sonar seg/ttv/runs/segment, name=yolov8_sonar_seg_continued, exist_ok=False, pretrained=True, optimizer=AdamW, verbose=True, seed=0, deterministic=True, single_cls=False, rect=False, cos_lr=False, close_mosaic=10, resume=False, amp=True, fraction=1.0, profile=False, freeze=None, multi_scale=False, overlap_mask=True, mask_ratio=4, dropout=0.0, val=True, split=val, save_json=False, save_hybrid=False, conf=None, iou=0.7, max_det=300, half=False, dnn=False, plots=True, source=None, vid_stride=1, stream_buffer=False, visualize=False, augment=False, agnostic_nms=False, classes=None, retina_masks=False, embed=None, show=False, save_frames=False, save_txt=False, save_conf=False, save_crop=False, show_labels=True, show_conf=True, show_boxes=True, line_width=None, format=torchscript, keras=False, optimize=False, int8=False, dynamic=False, simplify=True, opset=None, workspace=None, nms=False, lr0=0.01, lrf=0.01, momentum=0.937, weight_decay=0.0005, warmup_epochs=3.0, warmup_momentum=0.8, warmup_bias_lr=0.1, box=7.5, cls=0.5, dfl=1.5, pose=12.0, kobj=1.0, nbs=64, hsv_h=0.015, hsv_s=0.7, hsv_v=0.4, degrees=0.0, translate=0.1, scale=0.5, shear=0.0, perspective=0.0, flipud=0.0, fliplr=0.5, bgr=0.0, mosaic=1.0, mixup=0.0, copy_paste=0.0, copy_paste_mode=flip, auto_augment=randaugment, erasing=0.4, crop_fraction=1.0, cfg=None, tracker=botsort.yaml, save_dir=D:\\sonar seg\\ttv\\runs\\segment\\yolov8_sonar_seg_continued\n",
      "\n",
      "                   from  n    params  module                                       arguments                     \n",
      "  0                  -1  1       464  ultralytics.nn.modules.conv.Conv             [3, 16, 3, 2]                 \n",
      "  1                  -1  1      4672  ultralytics.nn.modules.conv.Conv             [16, 32, 3, 2]                \n",
      "  2                  -1  1      7360  ultralytics.nn.modules.block.C2f             [32, 32, 1, True]             \n",
      "  3                  -1  1     18560  ultralytics.nn.modules.conv.Conv             [32, 64, 3, 2]                \n",
      "  4                  -1  2     49664  ultralytics.nn.modules.block.C2f             [64, 64, 2, True]             \n",
      "  5                  -1  1     73984  ultralytics.nn.modules.conv.Conv             [64, 128, 3, 2]               \n",
      "  6                  -1  2    197632  ultralytics.nn.modules.block.C2f             [128, 128, 2, True]           \n",
      "  7                  -1  1    295424  ultralytics.nn.modules.conv.Conv             [128, 256, 3, 2]              \n",
      "  8                  -1  1    460288  ultralytics.nn.modules.block.C2f             [256, 256, 1, True]           \n",
      "  9                  -1  1    164608  ultralytics.nn.modules.block.SPPF            [256, 256, 5]                 \n",
      " 10                  -1  1         0  torch.nn.modules.upsampling.Upsample         [None, 2, 'nearest']          \n",
      " 11             [-1, 6]  1         0  ultralytics.nn.modules.conv.Concat           [1]                           \n",
      " 12                  -1  1    148224  ultralytics.nn.modules.block.C2f             [384, 128, 1]                 \n",
      " 13                  -1  1         0  torch.nn.modules.upsampling.Upsample         [None, 2, 'nearest']          \n",
      " 14             [-1, 4]  1         0  ultralytics.nn.modules.conv.Concat           [1]                           \n",
      " 15                  -1  1     37248  ultralytics.nn.modules.block.C2f             [192, 64, 1]                  \n",
      " 16                  -1  1     36992  ultralytics.nn.modules.conv.Conv             [64, 64, 3, 2]                \n",
      " 17            [-1, 12]  1         0  ultralytics.nn.modules.conv.Concat           [1]                           \n",
      " 18                  -1  1    123648  ultralytics.nn.modules.block.C2f             [192, 128, 1]                 \n",
      " 19                  -1  1    147712  ultralytics.nn.modules.conv.Conv             [128, 128, 3, 2]              \n",
      " 20             [-1, 9]  1         0  ultralytics.nn.modules.conv.Concat           [1]                           \n",
      " 21                  -1  1    493056  ultralytics.nn.modules.block.C2f             [384, 256, 1]                 \n",
      " 22        [15, 18, 21]  1   1006225  ultralytics.nn.modules.head.Segment          [11, 32, 64, [64, 128, 256]]  \n",
      "YOLOv8n-seg summary: 151 layers, 3,265,761 parameters, 3,265,745 gradients, 12.1 GFLOPs\n",
      "\n",
      "Transferred 417/417 items from pretrained weights\n",
      "\u001b[34m\u001b[1mTensorBoard: \u001b[0mStart with 'tensorboard --logdir D:\\sonar seg\\ttv\\runs\\segment\\yolov8_sonar_seg_continued', view at http://localhost:6006/\n",
      "Freezing layer 'model.22.dfl.conv.weight'\n",
      "\u001b[34m\u001b[1mAMP: \u001b[0mrunning Automatic Mixed Precision (AMP) checks...\n",
      "\u001b[34m\u001b[1mAMP: \u001b[0mchecks passed \n"
     ]
    },
    {
     "name": "stderr",
     "output_type": "stream",
     "text": [
      "\u001b[34m\u001b[1mtrain: \u001b[0mScanning D:\\sonar seg\\ttv\\train\\labels.cache... 1302 images, 0 backgrounds, 0 corrupt: 100%|██████████| 1302/1302 [00:00<?, ?it/s]"
     ]
    },
    {
     "name": "stdout",
     "output_type": "stream",
     "text": [
      "\u001b[34m\u001b[1malbumentations: \u001b[0mBlur(p=0.01, blur_limit=(3, 7)), MedianBlur(p=0.01, blur_limit=(3, 7)), ToGray(p=0.01, num_output_channels=3, method='weighted_average'), CLAHE(p=0.01, clip_limit=(1.0, 4.0), tile_grid_size=(8, 8))\n"
     ]
    },
    {
     "name": "stderr",
     "output_type": "stream",
     "text": [
      "\n",
      "\u001b[34m\u001b[1mval: \u001b[0mScanning D:\\sonar seg\\ttv\\val\\labels.cache... 369 images, 0 backgrounds, 0 corrupt: 100%|██████████| 369/369 [00:00<?, ?it/s]\n"
     ]
    },
    {
     "name": "stdout",
     "output_type": "stream",
     "text": [
      "Plotting labels to D:\\sonar seg\\ttv\\runs\\segment\\yolov8_sonar_seg_continued\\labels.jpg... \n",
      "\u001b[34m\u001b[1moptimizer:\u001b[0m AdamW(lr=0.01, momentum=0.937) with parameter groups 66 weight(decay=0.0), 77 weight(decay=0.0005), 76 bias(decay=0.0)\n",
      "\u001b[34m\u001b[1mTensorBoard: \u001b[0mmodel graph visualization added \n",
      "Image sizes 640 train, 640 val\n",
      "Using 4 dataloader workers\n",
      "Logging results to \u001b[1mD:\\sonar seg\\ttv\\runs\\segment\\yolov8_sonar_seg_continued\u001b[0m\n",
      "Starting training for 20 epochs...\n",
      "\n",
      "      Epoch    GPU_mem   box_loss   seg_loss   cls_loss   dfl_loss  Instances       Size\n"
     ]
    },
    {
     "name": "stderr",
     "output_type": "stream",
     "text": [
      "       1/20      2.93G       1.07     0.7042     0.8605      1.156         31        640: 100%|██████████| 82/82 [00:30<00:00,  2.65it/s]\n",
      "                 Class     Images  Instances      Box(P          R      mAP50  mAP50-95)     Mask(P          R      mAP50  mAP50-95): 100%|██████████| 12/12 [00:04<00:00,  2.83it/s]"
     ]
    },
    {
     "name": "stdout",
     "output_type": "stream",
     "text": [
      "                   all        369        756      0.775      0.729      0.806      0.548      0.846       0.66      0.799      0.499\n"
     ]
    },
    {
     "name": "stderr",
     "output_type": "stream",
     "text": [
      "\n"
     ]
    },
    {
     "name": "stdout",
     "output_type": "stream",
     "text": [
      "\n",
      "      Epoch    GPU_mem   box_loss   seg_loss   cls_loss   dfl_loss  Instances       Size\n"
     ]
    },
    {
     "name": "stderr",
     "output_type": "stream",
     "text": [
      "       2/20      2.62G      1.134     0.7072     0.9462      1.187         19        640: 100%|██████████| 82/82 [00:29<00:00,  2.79it/s]\n",
      "                 Class     Images  Instances      Box(P          R      mAP50  mAP50-95)     Mask(P          R      mAP50  mAP50-95): 100%|██████████| 12/12 [00:04<00:00,  2.83it/s]"
     ]
    },
    {
     "name": "stdout",
     "output_type": "stream",
     "text": [
      "                   all        369        756      0.871      0.906      0.926      0.618       0.87        0.9      0.924      0.577\n"
     ]
    },
    {
     "name": "stderr",
     "output_type": "stream",
     "text": [
      "\n"
     ]
    },
    {
     "name": "stdout",
     "output_type": "stream",
     "text": [
      "\n",
      "      Epoch    GPU_mem   box_loss   seg_loss   cls_loss   dfl_loss  Instances       Size\n"
     ]
    },
    {
     "name": "stderr",
     "output_type": "stream",
     "text": [
      "       3/20      2.57G       1.16     0.6876     0.9526      1.201         19        640: 100%|██████████| 82/82 [00:29<00:00,  2.74it/s]\n",
      "                 Class     Images  Instances      Box(P          R      mAP50  mAP50-95)     Mask(P          R      mAP50  mAP50-95): 100%|██████████| 12/12 [00:04<00:00,  2.85it/s]"
     ]
    },
    {
     "name": "stdout",
     "output_type": "stream",
     "text": [
      "                   all        369        756      0.826      0.831      0.907      0.592      0.817      0.822      0.896      0.513\n"
     ]
    },
    {
     "name": "stderr",
     "output_type": "stream",
     "text": [
      "\n"
     ]
    },
    {
     "name": "stdout",
     "output_type": "stream",
     "text": [
      "\n",
      "      Epoch    GPU_mem   box_loss   seg_loss   cls_loss   dfl_loss  Instances       Size\n"
     ]
    },
    {
     "name": "stderr",
     "output_type": "stream",
     "text": [
      "       4/20      2.55G      1.157     0.7071     0.9665      1.207         30        640: 100%|██████████| 82/82 [00:29<00:00,  2.74it/s]\n",
      "                 Class     Images  Instances      Box(P          R      mAP50  mAP50-95)     Mask(P          R      mAP50  mAP50-95): 100%|██████████| 12/12 [00:04<00:00,  2.82it/s]"
     ]
    },
    {
     "name": "stdout",
     "output_type": "stream",
     "text": [
      "                   all        369        756      0.831      0.809      0.877      0.561       0.83      0.804      0.868      0.514\n"
     ]
    },
    {
     "name": "stderr",
     "output_type": "stream",
     "text": [
      "\n"
     ]
    },
    {
     "name": "stdout",
     "output_type": "stream",
     "text": [
      "\n",
      "      Epoch    GPU_mem   box_loss   seg_loss   cls_loss   dfl_loss  Instances       Size\n"
     ]
    },
    {
     "name": "stderr",
     "output_type": "stream",
     "text": [
      "       5/20      2.59G      1.116     0.7098     0.9059      1.179         34        640: 100%|██████████| 82/82 [00:30<00:00,  2.69it/s]\n",
      "                 Class     Images  Instances      Box(P          R      mAP50  mAP50-95)     Mask(P          R      mAP50  mAP50-95): 100%|██████████| 12/12 [00:04<00:00,  2.61it/s]"
     ]
    },
    {
     "name": "stdout",
     "output_type": "stream",
     "text": [
      "                   all        369        756      0.852      0.831       0.91      0.607      0.852      0.831      0.913      0.583\n"
     ]
    },
    {
     "name": "stderr",
     "output_type": "stream",
     "text": [
      "\n"
     ]
    },
    {
     "name": "stdout",
     "output_type": "stream",
     "text": [
      "\n",
      "      Epoch    GPU_mem   box_loss   seg_loss   cls_loss   dfl_loss  Instances       Size\n"
     ]
    },
    {
     "name": "stderr",
     "output_type": "stream",
     "text": [
      "       6/20      2.55G      1.114     0.7085     0.8869      1.175         32        640: 100%|██████████| 82/82 [00:30<00:00,  2.71it/s]\n",
      "                 Class     Images  Instances      Box(P          R      mAP50  mAP50-95)     Mask(P          R      mAP50  mAP50-95): 100%|██████████| 12/12 [00:04<00:00,  2.71it/s]"
     ]
    },
    {
     "name": "stdout",
     "output_type": "stream",
     "text": [
      "                   all        369        756      0.804       0.91      0.921      0.633      0.803      0.903      0.918      0.599\n"
     ]
    },
    {
     "name": "stderr",
     "output_type": "stream",
     "text": [
      "\n"
     ]
    },
    {
     "name": "stdout",
     "output_type": "stream",
     "text": [
      "\n",
      "      Epoch    GPU_mem   box_loss   seg_loss   cls_loss   dfl_loss  Instances       Size\n"
     ]
    },
    {
     "name": "stderr",
     "output_type": "stream",
     "text": [
      "       7/20      2.57G      1.116     0.6807     0.8807      1.182         21        640: 100%|██████████| 82/82 [00:30<00:00,  2.69it/s]\n",
      "                 Class     Images  Instances      Box(P          R      mAP50  mAP50-95)     Mask(P          R      mAP50  mAP50-95): 100%|██████████| 12/12 [00:04<00:00,  2.51it/s]"
     ]
    },
    {
     "name": "stdout",
     "output_type": "stream",
     "text": [
      "                   all        369        756      0.832       0.88      0.904      0.611      0.828      0.878        0.9      0.543\n"
     ]
    },
    {
     "name": "stderr",
     "output_type": "stream",
     "text": [
      "\n"
     ]
    },
    {
     "name": "stdout",
     "output_type": "stream",
     "text": [
      "\n",
      "      Epoch    GPU_mem   box_loss   seg_loss   cls_loss   dfl_loss  Instances       Size\n"
     ]
    },
    {
     "name": "stderr",
     "output_type": "stream",
     "text": [
      "       8/20      2.54G      1.053     0.6677     0.8447      1.146         26        640: 100%|██████████| 82/82 [00:30<00:00,  2.70it/s]\n",
      "                 Class     Images  Instances      Box(P          R      mAP50  mAP50-95)     Mask(P          R      mAP50  mAP50-95): 100%|██████████| 12/12 [00:04<00:00,  2.84it/s]"
     ]
    },
    {
     "name": "stdout",
     "output_type": "stream",
     "text": [
      "                   all        369        756        0.8      0.701      0.821      0.553      0.801      0.702      0.817      0.517\n"
     ]
    },
    {
     "name": "stderr",
     "output_type": "stream",
     "text": [
      "\n"
     ]
    },
    {
     "name": "stdout",
     "output_type": "stream",
     "text": [
      "\n",
      "      Epoch    GPU_mem   box_loss   seg_loss   cls_loss   dfl_loss  Instances       Size\n"
     ]
    },
    {
     "name": "stderr",
     "output_type": "stream",
     "text": [
      "       9/20      2.59G      1.051     0.6712     0.8172      1.148         25        640: 100%|██████████| 82/82 [00:30<00:00,  2.72it/s]\n",
      "                 Class     Images  Instances      Box(P          R      mAP50  mAP50-95)     Mask(P          R      mAP50  mAP50-95): 100%|██████████| 12/12 [00:04<00:00,  2.63it/s]"
     ]
    },
    {
     "name": "stdout",
     "output_type": "stream",
     "text": [
      "                   all        369        756      0.875      0.903      0.947      0.659      0.877        0.9      0.944      0.604\n"
     ]
    },
    {
     "name": "stderr",
     "output_type": "stream",
     "text": [
      "\n"
     ]
    },
    {
     "name": "stdout",
     "output_type": "stream",
     "text": [
      "\n",
      "      Epoch    GPU_mem   box_loss   seg_loss   cls_loss   dfl_loss  Instances       Size\n"
     ]
    },
    {
     "name": "stderr",
     "output_type": "stream",
     "text": [
      "      10/20      2.63G      1.061     0.6748     0.8186      1.149         11        640: 100%|██████████| 82/82 [00:30<00:00,  2.70it/s]\n",
      "                 Class     Images  Instances      Box(P          R      mAP50  mAP50-95)     Mask(P          R      mAP50  mAP50-95): 100%|██████████| 12/12 [00:04<00:00,  2.76it/s]"
     ]
    },
    {
     "name": "stdout",
     "output_type": "stream",
     "text": [
      "                   all        369        756      0.872      0.925      0.947      0.676      0.873      0.926      0.948      0.617\n"
     ]
    },
    {
     "name": "stderr",
     "output_type": "stream",
     "text": [
      "\n"
     ]
    },
    {
     "name": "stdout",
     "output_type": "stream",
     "text": [
      "Closing dataloader mosaic\n",
      "\u001b[34m\u001b[1malbumentations: \u001b[0mBlur(p=0.01, blur_limit=(3, 7)), MedianBlur(p=0.01, blur_limit=(3, 7)), ToGray(p=0.01, num_output_channels=3, method='weighted_average'), CLAHE(p=0.01, clip_limit=(1.0, 4.0), tile_grid_size=(8, 8))\n",
      "\n",
      "      Epoch    GPU_mem   box_loss   seg_loss   cls_loss   dfl_loss  Instances       Size\n"
     ]
    },
    {
     "name": "stderr",
     "output_type": "stream",
     "text": [
      "      11/20       2.5G      1.002     0.6132     0.7061       1.14         13        640: 100%|██████████| 82/82 [00:29<00:00,  2.77it/s]\n",
      "                 Class     Images  Instances      Box(P          R      mAP50  mAP50-95)     Mask(P          R      mAP50  mAP50-95): 100%|██████████| 12/12 [00:04<00:00,  2.75it/s]"
     ]
    },
    {
     "name": "stdout",
     "output_type": "stream",
     "text": [
      "                   all        369        756      0.867        0.9      0.941      0.659      0.863      0.895      0.938      0.607\n"
     ]
    },
    {
     "name": "stderr",
     "output_type": "stream",
     "text": [
      "\n"
     ]
    },
    {
     "name": "stdout",
     "output_type": "stream",
     "text": [
      "\n",
      "      Epoch    GPU_mem   box_loss   seg_loss   cls_loss   dfl_loss  Instances       Size\n"
     ]
    },
    {
     "name": "stderr",
     "output_type": "stream",
     "text": [
      "      12/20      2.51G      0.994     0.5865     0.6961      1.141         11        640: 100%|██████████| 82/82 [00:29<00:00,  2.79it/s]\n",
      "                 Class     Images  Instances      Box(P          R      mAP50  mAP50-95)     Mask(P          R      mAP50  mAP50-95): 100%|██████████| 12/12 [00:04<00:00,  2.83it/s]"
     ]
    },
    {
     "name": "stdout",
     "output_type": "stream",
     "text": [
      "                   all        369        756      0.874      0.875      0.927      0.649      0.872      0.875      0.923      0.591\n"
     ]
    },
    {
     "name": "stderr",
     "output_type": "stream",
     "text": [
      "\n"
     ]
    },
    {
     "name": "stdout",
     "output_type": "stream",
     "text": [
      "\n",
      "      Epoch    GPU_mem   box_loss   seg_loss   cls_loss   dfl_loss  Instances       Size\n"
     ]
    },
    {
     "name": "stderr",
     "output_type": "stream",
     "text": [
      "      13/20      2.49G     0.9684     0.5917      0.678      1.114          8        640: 100%|██████████| 82/82 [00:29<00:00,  2.83it/s]\n",
      "                 Class     Images  Instances      Box(P          R      mAP50  mAP50-95)     Mask(P          R      mAP50  mAP50-95): 100%|██████████| 12/12 [00:04<00:00,  2.50it/s]"
     ]
    },
    {
     "name": "stdout",
     "output_type": "stream",
     "text": [
      "                   all        369        756       0.91      0.908      0.949      0.673       0.91      0.908      0.949      0.618\n"
     ]
    },
    {
     "name": "stderr",
     "output_type": "stream",
     "text": [
      "\n"
     ]
    },
    {
     "name": "stdout",
     "output_type": "stream",
     "text": [
      "\n",
      "      Epoch    GPU_mem   box_loss   seg_loss   cls_loss   dfl_loss  Instances       Size\n"
     ]
    },
    {
     "name": "stderr",
     "output_type": "stream",
     "text": [
      "      14/20      2.52G     0.9599     0.5831     0.6537      1.114         12        640: 100%|██████████| 82/82 [00:29<00:00,  2.83it/s]\n",
      "                 Class     Images  Instances      Box(P          R      mAP50  mAP50-95)     Mask(P          R      mAP50  mAP50-95): 100%|██████████| 12/12 [00:04<00:00,  2.64it/s]"
     ]
    },
    {
     "name": "stdout",
     "output_type": "stream",
     "text": [
      "                   all        369        756      0.928      0.907      0.954      0.678      0.926      0.907      0.952      0.639\n"
     ]
    },
    {
     "name": "stderr",
     "output_type": "stream",
     "text": [
      "\n"
     ]
    },
    {
     "name": "stdout",
     "output_type": "stream",
     "text": [
      "\n",
      "      Epoch    GPU_mem   box_loss   seg_loss   cls_loss   dfl_loss  Instances       Size\n"
     ]
    },
    {
     "name": "stderr",
     "output_type": "stream",
     "text": [
      "      15/20       2.5G      0.921     0.5855     0.6376      1.089         13        640: 100%|██████████| 82/82 [00:29<00:00,  2.82it/s]\n",
      "                 Class     Images  Instances      Box(P          R      mAP50  mAP50-95)     Mask(P          R      mAP50  mAP50-95): 100%|██████████| 12/12 [00:04<00:00,  2.76it/s]"
     ]
    },
    {
     "name": "stdout",
     "output_type": "stream",
     "text": [
      "                   all        369        756      0.915      0.934       0.95       0.69      0.911      0.938       0.95      0.625\n"
     ]
    },
    {
     "name": "stderr",
     "output_type": "stream",
     "text": [
      "\n"
     ]
    },
    {
     "name": "stdout",
     "output_type": "stream",
     "text": [
      "\n",
      "      Epoch    GPU_mem   box_loss   seg_loss   cls_loss   dfl_loss  Instances       Size\n"
     ]
    },
    {
     "name": "stderr",
     "output_type": "stream",
     "text": [
      "      16/20      2.49G     0.9255     0.5877     0.6102      1.086         12        640: 100%|██████████| 82/82 [00:29<00:00,  2.82it/s]\n",
      "                 Class     Images  Instances      Box(P          R      mAP50  mAP50-95)     Mask(P          R      mAP50  mAP50-95): 100%|██████████| 12/12 [00:04<00:00,  2.82it/s]"
     ]
    },
    {
     "name": "stdout",
     "output_type": "stream",
     "text": [
      "                   all        369        756      0.921      0.915      0.949      0.685      0.892      0.933      0.947      0.625\n"
     ]
    },
    {
     "name": "stderr",
     "output_type": "stream",
     "text": [
      "\n"
     ]
    },
    {
     "name": "stdout",
     "output_type": "stream",
     "text": [
      "\n",
      "      Epoch    GPU_mem   box_loss   seg_loss   cls_loss   dfl_loss  Instances       Size\n"
     ]
    },
    {
     "name": "stderr",
     "output_type": "stream",
     "text": [
      "      17/20      2.49G     0.8971     0.5832     0.5965      1.073         13        640: 100%|██████████| 82/82 [00:29<00:00,  2.79it/s]\n",
      "                 Class     Images  Instances      Box(P          R      mAP50  mAP50-95)     Mask(P          R      mAP50  mAP50-95): 100%|██████████| 12/12 [00:04<00:00,  2.73it/s]"
     ]
    },
    {
     "name": "stdout",
     "output_type": "stream",
     "text": [
      "                   all        369        756      0.925      0.938      0.963      0.707      0.919      0.943      0.962      0.667\n"
     ]
    },
    {
     "name": "stderr",
     "output_type": "stream",
     "text": [
      "\n"
     ]
    },
    {
     "name": "stdout",
     "output_type": "stream",
     "text": [
      "\n",
      "      Epoch    GPU_mem   box_loss   seg_loss   cls_loss   dfl_loss  Instances       Size\n"
     ]
    },
    {
     "name": "stderr",
     "output_type": "stream",
     "text": [
      "      18/20      2.49G     0.8783     0.5823     0.5681      1.066         12        640: 100%|██████████| 82/82 [00:29<00:00,  2.81it/s]\n",
      "                 Class     Images  Instances      Box(P          R      mAP50  mAP50-95)     Mask(P          R      mAP50  mAP50-95): 100%|██████████| 12/12 [00:04<00:00,  2.54it/s]"
     ]
    },
    {
     "name": "stdout",
     "output_type": "stream",
     "text": [
      "                   all        369        756      0.925      0.938      0.959      0.712      0.925      0.938       0.96      0.639\n"
     ]
    },
    {
     "name": "stderr",
     "output_type": "stream",
     "text": [
      "\n"
     ]
    },
    {
     "name": "stdout",
     "output_type": "stream",
     "text": [
      "\n",
      "      Epoch    GPU_mem   box_loss   seg_loss   cls_loss   dfl_loss  Instances       Size\n"
     ]
    },
    {
     "name": "stderr",
     "output_type": "stream",
     "text": [
      "      19/20      2.49G     0.8663     0.5692     0.5606      1.062         14        640: 100%|██████████| 82/82 [00:29<00:00,  2.80it/s]\n",
      "                 Class     Images  Instances      Box(P          R      mAP50  mAP50-95)     Mask(P          R      mAP50  mAP50-95): 100%|██████████| 12/12 [00:04<00:00,  2.79it/s]"
     ]
    },
    {
     "name": "stdout",
     "output_type": "stream",
     "text": [
      "                   all        369        756       0.91      0.949      0.954      0.713      0.914      0.948      0.954      0.657\n"
     ]
    },
    {
     "name": "stderr",
     "output_type": "stream",
     "text": [
      "\n"
     ]
    },
    {
     "name": "stdout",
     "output_type": "stream",
     "text": [
      "\n",
      "      Epoch    GPU_mem   box_loss   seg_loss   cls_loss   dfl_loss  Instances       Size\n"
     ]
    },
    {
     "name": "stderr",
     "output_type": "stream",
     "text": [
      "      20/20      2.51G     0.8457     0.5563     0.5391      1.049         15        640: 100%|██████████| 82/82 [00:29<00:00,  2.81it/s]\n",
      "                 Class     Images  Instances      Box(P          R      mAP50  mAP50-95)     Mask(P          R      mAP50  mAP50-95): 100%|██████████| 12/12 [00:04<00:00,  2.72it/s]"
     ]
    },
    {
     "name": "stdout",
     "output_type": "stream",
     "text": [
      "                   all        369        756      0.932      0.947      0.956      0.722      0.933      0.947      0.957      0.657\n"
     ]
    },
    {
     "name": "stderr",
     "output_type": "stream",
     "text": [
      "\n"
     ]
    },
    {
     "name": "stdout",
     "output_type": "stream",
     "text": [
      "\n",
      "20 epochs completed in 0.201 hours.\n",
      "Optimizer stripped from D:\\sonar seg\\ttv\\runs\\segment\\yolov8_sonar_seg_continued\\weights\\last.pt, 6.8MB\n",
      "Optimizer stripped from D:\\sonar seg\\ttv\\runs\\segment\\yolov8_sonar_seg_continued\\weights\\best.pt, 6.8MB\n",
      "\n",
      "Validating D:\\sonar seg\\ttv\\runs\\segment\\yolov8_sonar_seg_continued\\weights\\best.pt...\n",
      "Ultralytics 8.3.83  Python-3.11.9 torch-2.5.1+cu121 CUDA:0 (NVIDIA GeForce RTX 3050 Laptop GPU, 4096MiB)\n",
      "YOLOv8n-seg summary (fused): 85 layers, 3,260,209 parameters, 0 gradients, 12.0 GFLOPs\n"
     ]
    },
    {
     "name": "stderr",
     "output_type": "stream",
     "text": [
      "                 Class     Images  Instances      Box(P          R      mAP50  mAP50-95)     Mask(P          R      mAP50  mAP50-95): 100%|██████████| 12/12 [00:05<00:00,  2.30it/s]\n"
     ]
    },
    {
     "name": "stdout",
     "output_type": "stream",
     "text": [
      "                   all        369        756      0.932      0.947      0.956      0.722      0.933      0.947      0.957      0.657\n",
      "                Bottle         76         85      0.914      0.965      0.988      0.783      0.914      0.965      0.988       0.72\n",
      "                   Can         70         70      0.836      0.799      0.873      0.561      0.836      0.799      0.873      0.482\n",
      "                 Chain         69         70      0.907      0.929      0.971      0.723      0.893      0.914      0.962      0.708\n",
      "          Drink-carton         56         56      0.943      0.964      0.982      0.653       0.96      0.982       0.99      0.554\n",
      "                  Hook         34         35      0.953      0.971       0.98      0.753      0.953      0.971       0.98      0.711\n",
      "             Propeller         43         43      0.946      0.953      0.931      0.645      0.946      0.953      0.931      0.609\n",
      "        Shampoo-bottle         21         21      0.962      0.952      0.958      0.684      0.962      0.952      0.958        0.6\n",
      "       Standing-bottle         14         14      0.913          1      0.929      0.761      0.913          1      0.929      0.642\n",
      "                  Tire        114        114      0.981          1      0.994      0.851      0.981          1      0.994      0.766\n",
      "                 Valve         38         39      0.978      0.923      0.948      0.738      0.978      0.923      0.948      0.701\n",
      "                  Wall        181        209      0.923      0.957      0.965      0.788      0.923      0.957      0.972      0.731\n",
      "Speed: 0.4ms preprocess, 3.3ms inference, 0.0ms loss, 1.5ms postprocess per image\n",
      "Results saved to \u001b[1mD:\\sonar seg\\ttv\\runs\\segment\\yolov8_sonar_seg_continued\u001b[0m\n",
      " Training complete! Model saved in: D:/sonar seg/ttv/runs/segment\n"
     ]
    }
   ],
   "source": [
    "import torch\n",
    "from ultralytics import YOLO\n",
    "\n",
    "# Check if GPU is available\n",
    "device = \"cuda\" if torch.cuda.is_available() else \"cpu\"\n",
    "print(f\" Using device: {device}\")\n",
    "\n",
    "# Define dataset YAML file path\n",
    "DATA_YAML_PATH = r\"D:\\sonar seg\\data.yaml\"\n",
    "\n",
    "# Define model checkpoint save path\n",
    "OUTPUT_DIR = r\"D:/sonar seg/ttv/runs/segment\"\n",
    "\n",
    "# Load the pre-trained YOLOv8 segmentation model (from the last checkpoint)\n",
    "model = YOLO(r\"D:\\sonar seg\\ttv\\runs\\segment\\yolov8_sonar_seg3\\weights\\last.pt\")\n",
    "\n",
    "# Continue training the model\n",
    "model.train(\n",
    "    data=DATA_YAML_PATH,  # Path to dataset config file\n",
    "    epochs=20,            # Additional epochs for continued training\n",
    "    imgsz=640,            # Image size\n",
    "    batch=16,             # Batch size\n",
    "    device=device,        # Use GPU if available\n",
    "    workers=4,            # Number of CPU threads\n",
    "    project=OUTPUT_DIR,   # Where to save results\n",
    "    name=\"yolov8_sonar_seg_continued\",  # New name for continued training run\n",
    "    save=True,            # Save best model\n",
    "    save_period=5,        # Save model every 5 epochs\n",
    "    val=True,             # Run validation after training\n",
    "    optimizer=\"AdamW\"     # Optimizer: 'SGD' or 'AdamW' (AdamW recommended)\n",
    ")\n",
    "\n",
    "print(f\" Training complete! Model saved in: {OUTPUT_DIR}\")"
   ]
  },
  {
   "cell_type": "markdown",
   "metadata": {},
   "source": [
    "Evaluation"
   ]
  },
  {
   "cell_type": "code",
   "execution_count": 48,
   "metadata": {},
   "outputs": [
    {
     "name": "stderr",
     "output_type": "stream",
     "text": [
      "Evaluating model:   0%|          | 0/197 [00:00<?, ?it/s]"
     ]
    },
    {
     "name": "stdout",
     "output_type": "stream",
     "text": [
      "\n",
      "image 1/1 D:\\sonar seg\\ttv\\test\\images\\marine-debris-aris3k-1003.png: 640x448 1 Valve, 55.0ms\n",
      "Speed: 4.1ms preprocess, 55.0ms inference, 3.0ms postprocess per image at shape (1, 3, 640, 448)\n"
     ]
    },
    {
     "name": "stderr",
     "output_type": "stream",
     "text": [
      "Evaluating model:   1%|          | 1/197 [00:00<00:49,  3.98it/s]"
     ]
    },
    {
     "name": "stdout",
     "output_type": "stream",
     "text": [
      "\n",
      "image 1/1 D:\\sonar seg\\ttv\\test\\images\\marine-debris-aris3k-1021.png: 640x448 1 Can, 1 Wall, 53.4ms\n",
      "Speed: 3.7ms preprocess, 53.4ms inference, 3.3ms postprocess per image at shape (1, 3, 640, 448)\n",
      "\n",
      "image 1/1 D:\\sonar seg\\ttv\\test\\images\\marine-debris-aris3k-1022.png: 640x448 1 Chain, 1 Drink-carton, 49.8ms\n",
      "Speed: 3.8ms preprocess, 49.8ms inference, 3.6ms postprocess per image at shape (1, 3, 640, 448)\n"
     ]
    },
    {
     "name": "stderr",
     "output_type": "stream",
     "text": [
      "Evaluating model:   2%|▏         | 3/197 [00:00<00:22,  8.60it/s]"
     ]
    },
    {
     "name": "stdout",
     "output_type": "stream",
     "text": [
      "\n",
      "image 1/1 D:\\sonar seg\\ttv\\test\\images\\marine-debris-aris3k-1028.png: 640x448 1 Valve, 1 Wall, 49.6ms\n",
      "Speed: 3.1ms preprocess, 49.6ms inference, 4.0ms postprocess per image at shape (1, 3, 640, 448)\n",
      "\n",
      "image 1/1 D:\\sonar seg\\ttv\\test\\images\\marine-debris-aris3k-1030.png: 640x448 1 Bottle, 1 Tire, 1 Valve, 43.2ms\n",
      "Speed: 3.6ms preprocess, 43.2ms inference, 2.8ms postprocess per image at shape (1, 3, 640, 448)\n"
     ]
    },
    {
     "name": "stderr",
     "output_type": "stream",
     "text": [
      "Evaluating model:   3%|▎         | 5/197 [00:00<00:16, 11.31it/s]"
     ]
    },
    {
     "name": "stdout",
     "output_type": "stream",
     "text": [
      "\n",
      "image 1/1 D:\\sonar seg\\ttv\\test\\images\\marine-debris-aris3k-1033.png: 640x448 2 Walls, 10.2ms\n",
      "Speed: 1.2ms preprocess, 10.2ms inference, 2.2ms postprocess per image at shape (1, 3, 640, 448)\n",
      "\n",
      "image 1/1 D:\\sonar seg\\ttv\\test\\images\\marine-debris-aris3k-1046.png: 640x448 2 Walls, 9.7ms\n",
      "Speed: 1.2ms preprocess, 9.7ms inference, 2.0ms postprocess per image at shape (1, 3, 640, 448)\n",
      "\n",
      "image 1/1 D:\\sonar seg\\ttv\\test\\images\\marine-debris-aris3k-1048.png: 640x448 1 Standing-bottle, 2 Walls, 9.6ms\n",
      "Speed: 1.3ms preprocess, 9.6ms inference, 2.1ms postprocess per image at shape (1, 3, 640, 448)\n",
      "\n",
      "image 1/1 D:\\sonar seg\\ttv\\test\\images\\marine-debris-aris3k-1069.png: 640x448 1 Bottle, 1 Tire, 9.5ms\n",
      "Speed: 1.3ms preprocess, 9.5ms inference, 2.1ms postprocess per image at shape (1, 3, 640, 448)\n",
      "\n",
      "image 1/1 D:\\sonar seg\\ttv\\test\\images\\marine-debris-aris3k-1089.png: 640x448 1 Bottle, 1 Tire, 9.8ms\n",
      "Speed: 1.3ms preprocess, 9.8ms inference, 2.2ms postprocess per image at shape (1, 3, 640, 448)\n"
     ]
    },
    {
     "name": "stderr",
     "output_type": "stream",
     "text": [
      "Evaluating model:   5%|▌         | 10/197 [00:00<00:08, 22.03it/s]"
     ]
    },
    {
     "name": "stdout",
     "output_type": "stream",
     "text": [
      "\n",
      "image 1/1 D:\\sonar seg\\ttv\\test\\images\\marine-debris-aris3k-1123.png: 640x448 2 Bottles, 1 Tire, 1 Wall, 9.9ms\n",
      "Speed: 1.4ms preprocess, 9.9ms inference, 2.4ms postprocess per image at shape (1, 3, 640, 448)\n",
      "\n",
      "image 1/1 D:\\sonar seg\\ttv\\test\\images\\marine-debris-aris3k-1131.png: 640x448 1 Bottle, 1 Tire, 1 Wall, 9.5ms\n",
      "Speed: 1.4ms preprocess, 9.5ms inference, 2.1ms postprocess per image at shape (1, 3, 640, 448)\n",
      "\n",
      "image 1/1 D:\\sonar seg\\ttv\\test\\images\\marine-debris-aris3k-1145.png: 640x448 1 Bottle, 1 Tire, 9.6ms\n",
      "Speed: 1.8ms preprocess, 9.6ms inference, 2.1ms postprocess per image at shape (1, 3, 640, 448)\n",
      "\n",
      "image 1/1 D:\\sonar seg\\ttv\\test\\images\\marine-debris-aris3k-1146.png: 640x448 1 Bottle, 1 Tire, 9.5ms\n",
      "Speed: 1.6ms preprocess, 9.5ms inference, 2.2ms postprocess per image at shape (1, 3, 640, 448)\n",
      "\n",
      "image 1/1 D:\\sonar seg\\ttv\\test\\images\\marine-debris-aris3k-1148.png: 640x448 1 Bottle, 1 Tire, 9.7ms\n",
      "Speed: 1.4ms preprocess, 9.7ms inference, 2.3ms postprocess per image at shape (1, 3, 640, 448)\n"
     ]
    },
    {
     "name": "stderr",
     "output_type": "stream",
     "text": [
      "Evaluating model:   8%|▊         | 15/197 [00:00<00:06, 29.46it/s]"
     ]
    },
    {
     "name": "stdout",
     "output_type": "stream",
     "text": [
      "\n",
      "image 1/1 D:\\sonar seg\\ttv\\test\\images\\marine-debris-aris3k-1161.png: 640x448 2 Bottles, 1 Tire, 1 Valve, 1 Wall, 9.9ms\n",
      "Speed: 1.3ms preprocess, 9.9ms inference, 2.6ms postprocess per image at shape (1, 3, 640, 448)\n",
      "\n",
      "image 1/1 D:\\sonar seg\\ttv\\test\\images\\marine-debris-aris3k-1168.png: 640x448 2 Cans, 9.6ms\n",
      "Speed: 1.3ms preprocess, 9.6ms inference, 2.2ms postprocess per image at shape (1, 3, 640, 448)\n",
      "\n",
      "image 1/1 D:\\sonar seg\\ttv\\test\\images\\marine-debris-aris3k-1169.png: 640x448 1 Drink-carton, 1 Tire, 1 Wall, 9.9ms\n",
      "Speed: 1.2ms preprocess, 9.9ms inference, 2.2ms postprocess per image at shape (1, 3, 640, 448)\n",
      "\n",
      "image 1/1 D:\\sonar seg\\ttv\\test\\images\\marine-debris-aris3k-1177.png: 640x448 1 Chain, 1 Drink-carton, 9.4ms\n",
      "Speed: 1.2ms preprocess, 9.4ms inference, 2.1ms postprocess per image at shape (1, 3, 640, 448)\n",
      "\n",
      "image 1/1 D:\\sonar seg\\ttv\\test\\images\\marine-debris-aris3k-1178.png: 640x448 1 Chain, 1 Drink-carton, 10.0ms\n",
      "Speed: 1.7ms preprocess, 10.0ms inference, 2.8ms postprocess per image at shape (1, 3, 640, 448)\n"
     ]
    },
    {
     "name": "stderr",
     "output_type": "stream",
     "text": [
      "Evaluating model:  10%|█         | 20/197 [00:00<00:05, 34.35it/s]"
     ]
    },
    {
     "name": "stdout",
     "output_type": "stream",
     "text": [
      "\n",
      "image 1/1 D:\\sonar seg\\ttv\\test\\images\\marine-debris-aris3k-1181.png: 640x448 1 Drink-carton, 1 Wall, 10.4ms\n",
      "Speed: 1.5ms preprocess, 10.4ms inference, 2.2ms postprocess per image at shape (1, 3, 640, 448)\n",
      "\n",
      "image 1/1 D:\\sonar seg\\ttv\\test\\images\\marine-debris-aris3k-1183.png: 640x448 1 Drink-carton, 9.5ms\n",
      "Speed: 1.4ms preprocess, 9.5ms inference, 2.1ms postprocess per image at shape (1, 3, 640, 448)\n",
      "\n",
      "image 1/1 D:\\sonar seg\\ttv\\test\\images\\marine-debris-aris3k-1184.png: 640x448 1 Chain, 1 Propeller, 1 Tire, 9.7ms\n",
      "Speed: 1.2ms preprocess, 9.7ms inference, 2.0ms postprocess per image at shape (1, 3, 640, 448)\n",
      "\n",
      "image 1/1 D:\\sonar seg\\ttv\\test\\images\\marine-debris-aris3k-1186.png: 640x448 1 Can, 1 Wall, 20.7ms\n",
      "Speed: 1.3ms preprocess, 20.7ms inference, 4.7ms postprocess per image at shape (1, 3, 640, 448)\n"
     ]
    },
    {
     "name": "stderr",
     "output_type": "stream",
     "text": [
      "Evaluating model:  12%|█▏        | 24/197 [00:00<00:04, 35.94it/s]"
     ]
    },
    {
     "name": "stdout",
     "output_type": "stream",
     "text": [
      "\n",
      "image 1/1 D:\\sonar seg\\ttv\\test\\images\\marine-debris-aris3k-119.png: 640x448 1 Bottle, 1 Tire, 1 Wall, 10.1ms\n",
      "Speed: 1.6ms preprocess, 10.1ms inference, 2.5ms postprocess per image at shape (1, 3, 640, 448)\n",
      "\n",
      "image 1/1 D:\\sonar seg\\ttv\\test\\images\\marine-debris-aris3k-1199.png: 640x448 1 Chain, 1 Drink-carton, 1 Wall, 10.1ms\n",
      "Speed: 1.6ms preprocess, 10.1ms inference, 2.4ms postprocess per image at shape (1, 3, 640, 448)\n",
      "\n",
      "image 1/1 D:\\sonar seg\\ttv\\test\\images\\marine-debris-aris3k-1204.png: 640x448 2 Bottles, 1 Tire, 1 Wall, 9.8ms\n",
      "Speed: 1.7ms preprocess, 9.8ms inference, 2.5ms postprocess per image at shape (1, 3, 640, 448)\n",
      "\n",
      "image 1/1 D:\\sonar seg\\ttv\\test\\images\\marine-debris-aris3k-1208.png: 640x448 1 Chain, 1 Drink-carton, 1 Wall, 10.2ms\n",
      "Speed: 1.9ms preprocess, 10.2ms inference, 2.3ms postprocess per image at shape (1, 3, 640, 448)\n",
      "\n",
      "image 1/1 D:\\sonar seg\\ttv\\test\\images\\marine-debris-aris3k-121.png: 640x448 1 Propeller, 12.8ms\n",
      "Speed: 1.6ms preprocess, 12.8ms inference, 2.3ms postprocess per image at shape (1, 3, 640, 448)\n"
     ]
    },
    {
     "name": "stderr",
     "output_type": "stream",
     "text": [
      "Evaluating model:  15%|█▍        | 29/197 [00:01<00:04, 37.87it/s]"
     ]
    },
    {
     "name": "stdout",
     "output_type": "stream",
     "text": [
      "\n",
      "image 1/1 D:\\sonar seg\\ttv\\test\\images\\marine-debris-aris3k-1212.png: 640x448 1 Hook, 1 Propeller, 1 Tire, 1 Wall, 12.0ms\n",
      "Speed: 2.5ms preprocess, 12.0ms inference, 3.2ms postprocess per image at shape (1, 3, 640, 448)\n",
      "\n",
      "image 1/1 D:\\sonar seg\\ttv\\test\\images\\marine-debris-aris3k-1220.png: 640x448 1 Drink-carton, 1 Tire, 1 Wall, 10.2ms\n",
      "Speed: 1.3ms preprocess, 10.2ms inference, 2.9ms postprocess per image at shape (1, 3, 640, 448)\n",
      "\n",
      "image 1/1 D:\\sonar seg\\ttv\\test\\images\\marine-debris-aris3k-1253.png: 640x448 1 Hook, 10.0ms\n",
      "Speed: 1.8ms preprocess, 10.0ms inference, 2.6ms postprocess per image at shape (1, 3, 640, 448)\n",
      "\n",
      "image 1/1 D:\\sonar seg\\ttv\\test\\images\\marine-debris-aris3k-1257.png: 640x448 2 Cans, 1 Wall, 9.7ms\n",
      "Speed: 1.7ms preprocess, 9.7ms inference, 2.0ms postprocess per image at shape (1, 3, 640, 448)\n"
     ]
    },
    {
     "name": "stderr",
     "output_type": "stream",
     "text": [
      "Evaluating model:  17%|█▋        | 33/197 [00:01<00:04, 37.99it/s]"
     ]
    },
    {
     "name": "stdout",
     "output_type": "stream",
     "text": [
      "\n",
      "image 1/1 D:\\sonar seg\\ttv\\test\\images\\marine-debris-aris3k-1266.png: 640x448 1 Can, 9.8ms\n",
      "Speed: 1.5ms preprocess, 9.8ms inference, 2.4ms postprocess per image at shape (1, 3, 640, 448)\n",
      "\n",
      "image 1/1 D:\\sonar seg\\ttv\\test\\images\\marine-debris-aris3k-1281.png: 640x448 1 Bottle, 1 Can, 9.8ms\n",
      "Speed: 1.5ms preprocess, 9.8ms inference, 2.1ms postprocess per image at shape (1, 3, 640, 448)\n",
      "\n",
      "image 1/1 D:\\sonar seg\\ttv\\test\\images\\marine-debris-aris3k-1305.png: 640x448 1 Valve, 10.0ms\n",
      "Speed: 1.5ms preprocess, 10.0ms inference, 2.3ms postprocess per image at shape (1, 3, 640, 448)\n",
      "\n",
      "image 1/1 D:\\sonar seg\\ttv\\test\\images\\marine-debris-aris3k-1308.png: 640x448 1 Propeller, 10.1ms\n",
      "Speed: 1.4ms preprocess, 10.1ms inference, 2.3ms postprocess per image at shape (1, 3, 640, 448)\n",
      "\n",
      "image 1/1 D:\\sonar seg\\ttv\\test\\images\\marine-debris-aris3k-1312.png: 640x448 1 Drink-carton, 1 Tire, 1 Wall, 10.0ms\n",
      "Speed: 1.5ms preprocess, 10.0ms inference, 2.2ms postprocess per image at shape (1, 3, 640, 448)\n"
     ]
    },
    {
     "name": "stderr",
     "output_type": "stream",
     "text": [
      "Evaluating model:  19%|█▉        | 38/197 [00:01<00:03, 40.37it/s]"
     ]
    },
    {
     "name": "stdout",
     "output_type": "stream",
     "text": [
      "\n",
      "image 1/1 D:\\sonar seg\\ttv\\test\\images\\marine-debris-aris3k-1326.png: 640x448 1 Chain, 1 Propeller, 1 Tire, 9.6ms\n",
      "Speed: 1.4ms preprocess, 9.6ms inference, 2.3ms postprocess per image at shape (1, 3, 640, 448)\n",
      "\n",
      "image 1/1 D:\\sonar seg\\ttv\\test\\images\\marine-debris-aris3k-1333.png: 640x448 1 Drink-carton, 1 Tire, 1 Wall, 9.9ms\n",
      "Speed: 1.2ms preprocess, 9.9ms inference, 2.0ms postprocess per image at shape (1, 3, 640, 448)\n",
      "\n",
      "image 1/1 D:\\sonar seg\\ttv\\test\\images\\marine-debris-aris3k-1335.png: 640x448 1 Bottle, 1 Tire, 9.6ms\n",
      "Speed: 1.3ms preprocess, 9.6ms inference, 2.0ms postprocess per image at shape (1, 3, 640, 448)\n",
      "\n",
      "image 1/1 D:\\sonar seg\\ttv\\test\\images\\marine-debris-aris3k-1349.png: 640x448 1 Drink-carton, 1 Tire, 1 Wall, 9.8ms\n",
      "Speed: 1.3ms preprocess, 9.8ms inference, 1.9ms postprocess per image at shape (1, 3, 640, 448)\n",
      "\n",
      "image 1/1 D:\\sonar seg\\ttv\\test\\images\\marine-debris-aris3k-1351.png: 640x448 1 Bottle, 1 Tire, 9.5ms\n",
      "Speed: 1.4ms preprocess, 9.5ms inference, 2.0ms postprocess per image at shape (1, 3, 640, 448)\n"
     ]
    },
    {
     "name": "stderr",
     "output_type": "stream",
     "text": [
      "Evaluating model:  22%|██▏       | 43/197 [00:01<00:03, 42.20it/s]"
     ]
    },
    {
     "name": "stdout",
     "output_type": "stream",
     "text": [
      "\n",
      "image 1/1 D:\\sonar seg\\ttv\\test\\images\\marine-debris-aris3k-1360.png: 640x448 1 Valve, 1 Wall, 9.9ms\n",
      "Speed: 1.4ms preprocess, 9.9ms inference, 2.3ms postprocess per image at shape (1, 3, 640, 448)\n",
      "\n",
      "image 1/1 D:\\sonar seg\\ttv\\test\\images\\marine-debris-aris3k-1389.png: 640x448 1 Valve, 1 Wall, 9.9ms\n",
      "Speed: 1.5ms preprocess, 9.9ms inference, 2.1ms postprocess per image at shape (1, 3, 640, 448)\n",
      "\n",
      "image 1/1 D:\\sonar seg\\ttv\\test\\images\\marine-debris-aris3k-1392.png: 640x448 1 Chain, 1 Drink-carton, 1 Wall, 9.7ms\n",
      "Speed: 1.3ms preprocess, 9.7ms inference, 2.1ms postprocess per image at shape (1, 3, 640, 448)\n",
      "\n",
      "image 1/1 D:\\sonar seg\\ttv\\test\\images\\marine-debris-aris3k-1396.png: 640x448 1 Valve, 9.6ms\n",
      "Speed: 1.2ms preprocess, 9.6ms inference, 2.1ms postprocess per image at shape (1, 3, 640, 448)\n",
      "\n",
      "image 1/1 D:\\sonar seg\\ttv\\test\\images\\marine-debris-aris3k-1404.png: 640x448 1 Standing-bottle, 2 Walls, 9.4ms\n",
      "Speed: 1.3ms preprocess, 9.4ms inference, 2.0ms postprocess per image at shape (1, 3, 640, 448)\n"
     ]
    },
    {
     "name": "stderr",
     "output_type": "stream",
     "text": [
      "Evaluating model:  24%|██▍       | 48/197 [00:01<00:03, 43.27it/s]"
     ]
    },
    {
     "name": "stdout",
     "output_type": "stream",
     "text": [
      "\n",
      "image 1/1 D:\\sonar seg\\ttv\\test\\images\\marine-debris-aris3k-1406.png: 640x448 1 Bottle, 9.8ms\n",
      "Speed: 1.3ms preprocess, 9.8ms inference, 2.1ms postprocess per image at shape (1, 3, 640, 448)\n",
      "\n",
      "image 1/1 D:\\sonar seg\\ttv\\test\\images\\marine-debris-aris3k-1417.png: 640x448 1 Bottle, 1 Wall, 9.8ms\n",
      "Speed: 1.3ms preprocess, 9.8ms inference, 2.0ms postprocess per image at shape (1, 3, 640, 448)\n",
      "\n",
      "image 1/1 D:\\sonar seg\\ttv\\test\\images\\marine-debris-aris3k-1420.png: 640x448 1 Bottle, 9.7ms\n",
      "Speed: 1.4ms preprocess, 9.7ms inference, 3.3ms postprocess per image at shape (1, 3, 640, 448)\n",
      "\n",
      "image 1/1 D:\\sonar seg\\ttv\\test\\images\\marine-debris-aris3k-1430.png: 640x448 2 Chains, 9.8ms\n",
      "Speed: 1.2ms preprocess, 9.8ms inference, 2.0ms postprocess per image at shape (1, 3, 640, 448)\n",
      "\n",
      "image 1/1 D:\\sonar seg\\ttv\\test\\images\\marine-debris-aris3k-1431.png: 640x448 1 Valve, 9.7ms\n",
      "Speed: 1.4ms preprocess, 9.7ms inference, 2.0ms postprocess per image at shape (1, 3, 640, 448)\n"
     ]
    },
    {
     "name": "stderr",
     "output_type": "stream",
     "text": [
      "Evaluating model:  27%|██▋       | 53/197 [00:01<00:03, 44.13it/s]"
     ]
    },
    {
     "name": "stdout",
     "output_type": "stream",
     "text": [
      "\n",
      "image 1/1 D:\\sonar seg\\ttv\\test\\images\\marine-debris-aris3k-144.png: 640x448 1 Bottle, 1 Tire, 9.5ms\n",
      "Speed: 1.4ms preprocess, 9.5ms inference, 2.2ms postprocess per image at shape (1, 3, 640, 448)\n",
      "\n",
      "image 1/1 D:\\sonar seg\\ttv\\test\\images\\marine-debris-aris3k-1453.png: 640x448 1 Can, 2 Walls, 10.1ms\n",
      "Speed: 1.3ms preprocess, 10.1ms inference, 2.2ms postprocess per image at shape (1, 3, 640, 448)\n",
      "\n",
      "image 1/1 D:\\sonar seg\\ttv\\test\\images\\marine-debris-aris3k-1463.png: 640x448 1 Drink-carton, 1 Tire, 1 Wall, 19.4ms\n",
      "Speed: 1.4ms preprocess, 19.4ms inference, 4.9ms postprocess per image at shape (1, 3, 640, 448)\n",
      "\n",
      "image 1/1 D:\\sonar seg\\ttv\\test\\images\\marine-debris-aris3k-1467.png: 640x448 3 Chains, 1 Propeller, 1 Tire, 9.5ms\n",
      "Speed: 1.5ms preprocess, 9.5ms inference, 2.0ms postprocess per image at shape (1, 3, 640, 448)\n",
      "\n",
      "image 1/1 D:\\sonar seg\\ttv\\test\\images\\marine-debris-aris3k-147.png: 640x448 1 Can, 2 Walls, 9.4ms\n",
      "Speed: 1.6ms preprocess, 9.4ms inference, 2.1ms postprocess per image at shape (1, 3, 640, 448)\n"
     ]
    },
    {
     "name": "stderr",
     "output_type": "stream",
     "text": [
      "Evaluating model:  29%|██▉       | 58/197 [00:01<00:03, 43.18it/s]"
     ]
    },
    {
     "name": "stdout",
     "output_type": "stream",
     "text": [
      "\n",
      "image 1/1 D:\\sonar seg\\ttv\\test\\images\\marine-debris-aris3k-1470.png: 640x448 2 Cans, 1 Propeller, 1 Wall, 9.7ms\n",
      "Speed: 1.4ms preprocess, 9.7ms inference, 2.1ms postprocess per image at shape (1, 3, 640, 448)\n",
      "\n",
      "image 1/1 D:\\sonar seg\\ttv\\test\\images\\marine-debris-aris3k-1491.png: 640x448 1 Valve, 1 Wall, 10.0ms\n",
      "Speed: 1.6ms preprocess, 10.0ms inference, 2.2ms postprocess per image at shape (1, 3, 640, 448)\n",
      "\n",
      "image 1/1 D:\\sonar seg\\ttv\\test\\images\\marine-debris-aris3k-1498.png: 640x448 1 Shampoo-bottle, 9.6ms\n",
      "Speed: 1.2ms preprocess, 9.6ms inference, 2.0ms postprocess per image at shape (1, 3, 640, 448)\n",
      "\n",
      "image 1/1 D:\\sonar seg\\ttv\\test\\images\\marine-debris-aris3k-151.png: 640x448 2 Bottles, 1 Tire, 1 Valve, 1 Wall, 9.5ms\n",
      "Speed: 1.2ms preprocess, 9.5ms inference, 2.1ms postprocess per image at shape (1, 3, 640, 448)\n",
      "\n",
      "image 1/1 D:\\sonar seg\\ttv\\test\\images\\marine-debris-aris3k-1552.png: 640x448 1 Bottle, 1 Can, 9.8ms\n",
      "Speed: 1.3ms preprocess, 9.8ms inference, 2.0ms postprocess per image at shape (1, 3, 640, 448)\n"
     ]
    },
    {
     "name": "stderr",
     "output_type": "stream",
     "text": [
      "Evaluating model:  32%|███▏      | 63/197 [00:01<00:03, 44.46it/s]"
     ]
    },
    {
     "name": "stdout",
     "output_type": "stream",
     "text": [
      "\n",
      "image 1/1 D:\\sonar seg\\ttv\\test\\images\\marine-debris-aris3k-1555.png: 640x448 1 Chain, 10.0ms\n",
      "Speed: 1.2ms preprocess, 10.0ms inference, 2.1ms postprocess per image at shape (1, 3, 640, 448)\n",
      "\n",
      "image 1/1 D:\\sonar seg\\ttv\\test\\images\\marine-debris-aris3k-1573.png: 640x448 1 Hook, 1 Propeller, 1 Wall, 9.6ms\n",
      "Speed: 1.3ms preprocess, 9.6ms inference, 2.0ms postprocess per image at shape (1, 3, 640, 448)\n",
      "\n",
      "image 1/1 D:\\sonar seg\\ttv\\test\\images\\marine-debris-aris3k-1583.png: 640x448 1 Can, 1 Wall, 9.7ms\n",
      "Speed: 1.2ms preprocess, 9.7ms inference, 2.0ms postprocess per image at shape (1, 3, 640, 448)\n",
      "\n",
      "image 1/1 D:\\sonar seg\\ttv\\test\\images\\marine-debris-aris3k-1584.png: 640x448 1 Bottle, 1 Tire, 9.5ms\n",
      "Speed: 1.3ms preprocess, 9.5ms inference, 2.0ms postprocess per image at shape (1, 3, 640, 448)\n",
      "\n",
      "image 1/1 D:\\sonar seg\\ttv\\test\\images\\marine-debris-aris3k-1586.png: 640x448 1 Drink-carton, 1 Tire, 1 Wall, 19.7ms\n",
      "Speed: 1.7ms preprocess, 19.7ms inference, 4.6ms postprocess per image at shape (1, 3, 640, 448)\n"
     ]
    },
    {
     "name": "stderr",
     "output_type": "stream",
     "text": [
      "Evaluating model:  35%|███▍      | 68/197 [00:01<00:02, 43.58it/s]"
     ]
    },
    {
     "name": "stdout",
     "output_type": "stream",
     "text": [
      "\n",
      "image 1/1 D:\\sonar seg\\ttv\\test\\images\\marine-debris-aris3k-1589.png: 640x448 2 Chains, 10.1ms\n",
      "Speed: 1.3ms preprocess, 10.1ms inference, 4.5ms postprocess per image at shape (1, 3, 640, 448)\n",
      "\n",
      "image 1/1 D:\\sonar seg\\ttv\\test\\images\\marine-debris-aris3k-1596.png: 640x448 1 Bottle, 9.6ms\n",
      "Speed: 1.4ms preprocess, 9.6ms inference, 2.0ms postprocess per image at shape (1, 3, 640, 448)\n",
      "\n",
      "image 1/1 D:\\sonar seg\\ttv\\test\\images\\marine-debris-aris3k-161.png: 640x448 1 Drink-carton, 1 Tire, 1 Wall, 9.6ms\n",
      "Speed: 1.2ms preprocess, 9.6ms inference, 2.1ms postprocess per image at shape (1, 3, 640, 448)\n",
      "\n",
      "image 1/1 D:\\sonar seg\\ttv\\test\\images\\marine-debris-aris3k-1621.png: 640x448 1 Chain, 1 Drink-carton, 9.5ms\n",
      "Speed: 1.2ms preprocess, 9.5ms inference, 2.1ms postprocess per image at shape (1, 3, 640, 448)\n",
      "\n",
      "image 1/1 D:\\sonar seg\\ttv\\test\\images\\marine-debris-aris3k-1629.png: 640x448 1 Can, 9.7ms\n",
      "Speed: 1.3ms preprocess, 9.7ms inference, 2.2ms postprocess per image at shape (1, 3, 640, 448)\n"
     ]
    },
    {
     "name": "stderr",
     "output_type": "stream",
     "text": [
      "Evaluating model:  37%|███▋      | 73/197 [00:02<00:02, 44.12it/s]"
     ]
    },
    {
     "name": "stdout",
     "output_type": "stream",
     "text": [
      "\n",
      "image 1/1 D:\\sonar seg\\ttv\\test\\images\\marine-debris-aris3k-1634.png: 640x448 1 Bottle, 1 Tire, 9.6ms\n",
      "Speed: 1.6ms preprocess, 9.6ms inference, 2.2ms postprocess per image at shape (1, 3, 640, 448)\n",
      "\n",
      "image 1/1 D:\\sonar seg\\ttv\\test\\images\\marine-debris-aris3k-1641.png: 640x448 1 Drink-carton, 1 Shampoo-bottle, 9.7ms\n",
      "Speed: 1.4ms preprocess, 9.7ms inference, 2.2ms postprocess per image at shape (1, 3, 640, 448)\n",
      "\n",
      "image 1/1 D:\\sonar seg\\ttv\\test\\images\\marine-debris-aris3k-1642.png: 640x448 1 Valve, 1 Wall, 9.4ms\n",
      "Speed: 1.4ms preprocess, 9.4ms inference, 2.3ms postprocess per image at shape (1, 3, 640, 448)\n",
      "\n",
      "image 1/1 D:\\sonar seg\\ttv\\test\\images\\marine-debris-aris3k-1684.png: 640x448 2 Cans, 1 Wall, 9.6ms\n",
      "Speed: 1.3ms preprocess, 9.6ms inference, 2.0ms postprocess per image at shape (1, 3, 640, 448)\n",
      "\n",
      "image 1/1 D:\\sonar seg\\ttv\\test\\images\\marine-debris-aris3k-1690.png: 640x448 1 Hook, 1 Propeller, 1 Tire, 9.7ms\n",
      "Speed: 1.4ms preprocess, 9.7ms inference, 2.0ms postprocess per image at shape (1, 3, 640, 448)\n"
     ]
    },
    {
     "name": "stderr",
     "output_type": "stream",
     "text": [
      "Evaluating model:  40%|███▉      | 78/197 [00:02<00:02, 44.75it/s]"
     ]
    },
    {
     "name": "stdout",
     "output_type": "stream",
     "text": [
      "\n",
      "image 1/1 D:\\sonar seg\\ttv\\test\\images\\marine-debris-aris3k-1697.png: 640x448 2 Cans, 1 Wall, 9.8ms\n",
      "Speed: 1.2ms preprocess, 9.8ms inference, 2.3ms postprocess per image at shape (1, 3, 640, 448)\n",
      "\n",
      "image 1/1 D:\\sonar seg\\ttv\\test\\images\\marine-debris-aris3k-1701.png: 640x448 1 Bottle, 1 Tire, 9.7ms\n",
      "Speed: 1.3ms preprocess, 9.7ms inference, 2.0ms postprocess per image at shape (1, 3, 640, 448)\n",
      "\n",
      "image 1/1 D:\\sonar seg\\ttv\\test\\images\\marine-debris-aris3k-1717.png: 640x448 2 Chains, 1 Drink-carton, 1 Shampoo-bottle, 9.7ms\n",
      "Speed: 1.2ms preprocess, 9.7ms inference, 2.0ms postprocess per image at shape (1, 3, 640, 448)\n",
      "\n",
      "image 1/1 D:\\sonar seg\\ttv\\test\\images\\marine-debris-aris3k-1723.png: 640x448 1 Chain, 1 Drink-carton, 9.5ms\n",
      "Speed: 1.2ms preprocess, 9.5ms inference, 1.9ms postprocess per image at shape (1, 3, 640, 448)\n",
      "\n",
      "image 1/1 D:\\sonar seg\\ttv\\test\\images\\marine-debris-aris3k-1725.png: 640x448 2 Chains, 1 Drink-carton, 9.6ms\n",
      "Speed: 1.3ms preprocess, 9.6ms inference, 2.0ms postprocess per image at shape (1, 3, 640, 448)\n"
     ]
    },
    {
     "name": "stderr",
     "output_type": "stream",
     "text": [
      "Evaluating model:  42%|████▏     | 83/197 [00:02<00:02, 45.44it/s]"
     ]
    },
    {
     "name": "stdout",
     "output_type": "stream",
     "text": [
      "\n",
      "image 1/1 D:\\sonar seg\\ttv\\test\\images\\marine-debris-aris3k-1735.png: 640x448 1 Hook, 1 Propeller, 1 Tire, 1 Wall, 9.8ms\n",
      "Speed: 1.3ms preprocess, 9.8ms inference, 2.3ms postprocess per image at shape (1, 3, 640, 448)\n",
      "\n",
      "image 1/1 D:\\sonar seg\\ttv\\test\\images\\marine-debris-aris3k-1741.png: 640x448 1 Valve, 1 Wall, 9.5ms\n",
      "Speed: 1.3ms preprocess, 9.5ms inference, 2.0ms postprocess per image at shape (1, 3, 640, 448)\n",
      "\n",
      "image 1/1 D:\\sonar seg\\ttv\\test\\images\\marine-debris-aris3k-175.png: 640x448 1 Bottle, 9.6ms\n",
      "Speed: 1.2ms preprocess, 9.6ms inference, 2.1ms postprocess per image at shape (1, 3, 640, 448)\n",
      "\n",
      "image 1/1 D:\\sonar seg\\ttv\\test\\images\\marine-debris-aris3k-1762.png: 640x448 2 Cans, 1 Propeller, 1 Wall, 10.7ms\n",
      "Speed: 1.2ms preprocess, 10.7ms inference, 2.7ms postprocess per image at shape (1, 3, 640, 448)\n",
      "\n",
      "image 1/1 D:\\sonar seg\\ttv\\test\\images\\marine-debris-aris3k-1786.png: 640x448 2 Cans, 1 Wall, 10.0ms\n",
      "Speed: 1.2ms preprocess, 10.0ms inference, 2.0ms postprocess per image at shape (1, 3, 640, 448)\n"
     ]
    },
    {
     "name": "stderr",
     "output_type": "stream",
     "text": [
      "Evaluating model:  45%|████▍     | 88/197 [00:02<00:02, 45.12it/s]"
     ]
    },
    {
     "name": "stdout",
     "output_type": "stream",
     "text": [
      "\n",
      "image 1/1 D:\\sonar seg\\ttv\\test\\images\\marine-debris-aris3k-1789.png: 640x448 1 Hook, 1 Wall, 16.7ms\n",
      "Speed: 1.5ms preprocess, 16.7ms inference, 2.2ms postprocess per image at shape (1, 3, 640, 448)\n",
      "\n",
      "image 1/1 D:\\sonar seg\\ttv\\test\\images\\marine-debris-aris3k-1791.png: 640x448 1 Chain, 1 Drink-carton, 1 Wall, 9.9ms\n",
      "Speed: 1.3ms preprocess, 9.9ms inference, 2.0ms postprocess per image at shape (1, 3, 640, 448)\n",
      "\n",
      "image 1/1 D:\\sonar seg\\ttv\\test\\images\\marine-debris-aris3k-1805.png: 640x448 1 Bottle, 1 Can, 10.1ms\n",
      "Speed: 1.2ms preprocess, 10.1ms inference, 2.4ms postprocess per image at shape (1, 3, 640, 448)\n",
      "\n",
      "image 1/1 D:\\sonar seg\\ttv\\test\\images\\marine-debris-aris3k-1807.png: 640x448 1 Hook, 1 Wall, 16.9ms\n",
      "Speed: 5.5ms preprocess, 16.9ms inference, 3.1ms postprocess per image at shape (1, 3, 640, 448)\n",
      "\n",
      "image 1/1 D:\\sonar seg\\ttv\\test\\images\\marine-debris-aris3k-1819.png: 640x448 1 Valve, 1 Wall, 12.2ms\n",
      "Speed: 1.9ms preprocess, 12.2ms inference, 3.7ms postprocess per image at shape (1, 3, 640, 448)\n"
     ]
    },
    {
     "name": "stderr",
     "output_type": "stream",
     "text": [
      "Evaluating model:  47%|████▋     | 93/197 [00:02<00:02, 41.52it/s]"
     ]
    },
    {
     "name": "stdout",
     "output_type": "stream",
     "text": [
      "\n",
      "image 1/1 D:\\sonar seg\\ttv\\test\\images\\marine-debris-aris3k-1824.png: 640x448 1 Hook, 9.7ms\n",
      "Speed: 1.3ms preprocess, 9.7ms inference, 2.1ms postprocess per image at shape (1, 3, 640, 448)\n",
      "\n",
      "image 1/1 D:\\sonar seg\\ttv\\test\\images\\marine-debris-aris3k-183.png: 640x448 1 Valve, 9.6ms\n",
      "Speed: 1.3ms preprocess, 9.6ms inference, 2.1ms postprocess per image at shape (1, 3, 640, 448)\n",
      "\n",
      "image 1/1 D:\\sonar seg\\ttv\\test\\images\\marine-debris-aris3k-1830.png: 640x448 1 Hook, 1 Propeller, 1 Tire, 9.4ms\n",
      "Speed: 1.3ms preprocess, 9.4ms inference, 2.1ms postprocess per image at shape (1, 3, 640, 448)\n",
      "\n",
      "image 1/1 D:\\sonar seg\\ttv\\test\\images\\marine-debris-aris3k-1833.png: 640x448 1 Hook, 1 Tire, 1 Wall, 9.9ms\n",
      "Speed: 1.2ms preprocess, 9.9ms inference, 2.1ms postprocess per image at shape (1, 3, 640, 448)\n",
      "\n",
      "image 1/1 D:\\sonar seg\\ttv\\test\\images\\marine-debris-aris3k-1842.png: 640x448 1 Bottle, 1 Tire, 9.5ms\n",
      "Speed: 1.3ms preprocess, 9.5ms inference, 2.0ms postprocess per image at shape (1, 3, 640, 448)\n"
     ]
    },
    {
     "name": "stderr",
     "output_type": "stream",
     "text": [
      "Evaluating model:  50%|████▉     | 98/197 [00:02<00:02, 42.86it/s]"
     ]
    },
    {
     "name": "stdout",
     "output_type": "stream",
     "text": [
      "\n",
      "image 1/1 D:\\sonar seg\\ttv\\test\\images\\marine-debris-aris3k-1849.png: 640x448 1 Can, 1 Wall, 10.0ms\n",
      "Speed: 1.5ms preprocess, 10.0ms inference, 2.3ms postprocess per image at shape (1, 3, 640, 448)\n",
      "\n",
      "image 1/1 D:\\sonar seg\\ttv\\test\\images\\marine-debris-aris3k-1853.png: 640x448 1 Hook, 1 Propeller, 1 Tire, 1 Wall, 10.5ms\n",
      "Speed: 1.6ms preprocess, 10.5ms inference, 2.6ms postprocess per image at shape (1, 3, 640, 448)\n",
      "\n",
      "image 1/1 D:\\sonar seg\\ttv\\test\\images\\marine-debris-aris3k-191.png: 640x448 2 Bottles, 1 Tire, 1 Wall, 10.1ms\n",
      "Speed: 1.2ms preprocess, 10.1ms inference, 2.1ms postprocess per image at shape (1, 3, 640, 448)\n",
      "\n",
      "image 1/1 D:\\sonar seg\\ttv\\test\\images\\marine-debris-aris3k-201.png: 640x448 1 Drink-carton, 1 Tire, 1 Wall, 9.6ms\n",
      "Speed: 1.5ms preprocess, 9.6ms inference, 2.1ms postprocess per image at shape (1, 3, 640, 448)\n",
      "\n",
      "image 1/1 D:\\sonar seg\\ttv\\test\\images\\marine-debris-aris3k-202.png: 640x448 1 Standing-bottle, 2 Walls, 9.5ms\n",
      "Speed: 1.2ms preprocess, 9.5ms inference, 2.0ms postprocess per image at shape (1, 3, 640, 448)\n"
     ]
    },
    {
     "name": "stderr",
     "output_type": "stream",
     "text": [
      "Evaluating model:  52%|█████▏    | 103/197 [00:02<00:02, 42.91it/s]"
     ]
    },
    {
     "name": "stdout",
     "output_type": "stream",
     "text": [
      "\n",
      "image 1/1 D:\\sonar seg\\ttv\\test\\images\\marine-debris-aris3k-203.png: 640x448 3 Cans, 10.1ms\n",
      "Speed: 1.2ms preprocess, 10.1ms inference, 2.0ms postprocess per image at shape (1, 3, 640, 448)\n",
      "\n",
      "image 1/1 D:\\sonar seg\\ttv\\test\\images\\marine-debris-aris3k-213.png: 640x448 1 Bottle, 1 Can, 19.6ms\n",
      "Speed: 1.4ms preprocess, 19.6ms inference, 4.3ms postprocess per image at shape (1, 3, 640, 448)\n",
      "\n",
      "image 1/1 D:\\sonar seg\\ttv\\test\\images\\marine-debris-aris3k-220.png: 640x448 1 Chain, 2 Walls, 9.5ms\n",
      "Speed: 1.2ms preprocess, 9.5ms inference, 2.1ms postprocess per image at shape (1, 3, 640, 448)\n",
      "\n",
      "image 1/1 D:\\sonar seg\\ttv\\test\\images\\marine-debris-aris3k-23.png: 640x448 1 Bottle, 1 Tire, 1 Valve, 9.7ms\n",
      "Speed: 1.2ms preprocess, 9.7ms inference, 2.0ms postprocess per image at shape (1, 3, 640, 448)\n",
      "\n",
      "image 1/1 D:\\sonar seg\\ttv\\test\\images\\marine-debris-aris3k-250.png: 640x448 1 Chain, 1 Tire, 19.6ms\n",
      "Speed: 1.5ms preprocess, 19.6ms inference, 2.0ms postprocess per image at shape (1, 3, 640, 448)\n"
     ]
    },
    {
     "name": "stderr",
     "output_type": "stream",
     "text": [
      "Evaluating model:  55%|█████▍    | 108/197 [00:02<00:02, 41.51it/s]"
     ]
    },
    {
     "name": "stdout",
     "output_type": "stream",
     "text": [
      "\n",
      "image 1/1 D:\\sonar seg\\ttv\\test\\images\\marine-debris-aris3k-253.png: 640x448 1 Chain, 1 Drink-carton, 9.7ms\n",
      "Speed: 1.3ms preprocess, 9.7ms inference, 2.1ms postprocess per image at shape (1, 3, 640, 448)\n",
      "\n",
      "image 1/1 D:\\sonar seg\\ttv\\test\\images\\marine-debris-aris3k-265.png: 640x448 1 Valve, 13.2ms\n",
      "Speed: 1.5ms preprocess, 13.2ms inference, 2.0ms postprocess per image at shape (1, 3, 640, 448)\n",
      "\n",
      "image 1/1 D:\\sonar seg\\ttv\\test\\images\\marine-debris-aris3k-27.png: 640x448 1 Can, 1 Wall, 9.4ms\n",
      "Speed: 1.3ms preprocess, 9.4ms inference, 2.0ms postprocess per image at shape (1, 3, 640, 448)\n",
      "\n",
      "image 1/1 D:\\sonar seg\\ttv\\test\\images\\marine-debris-aris3k-278.png: 640x448 1 Hook, 1 Propeller, 1 Tire, 1 Wall, 9.6ms\n",
      "Speed: 1.3ms preprocess, 9.6ms inference, 2.1ms postprocess per image at shape (1, 3, 640, 448)\n",
      "\n",
      "image 1/1 D:\\sonar seg\\ttv\\test\\images\\marine-debris-aris3k-280.png: 640x448 1 Bottle, 1 Tire, 9.3ms\n",
      "Speed: 1.2ms preprocess, 9.3ms inference, 2.1ms postprocess per image at shape (1, 3, 640, 448)\n"
     ]
    },
    {
     "name": "stderr",
     "output_type": "stream",
     "text": [
      "Evaluating model:  57%|█████▋    | 113/197 [00:02<00:01, 42.39it/s]"
     ]
    },
    {
     "name": "stdout",
     "output_type": "stream",
     "text": [
      "\n",
      "image 1/1 D:\\sonar seg\\ttv\\test\\images\\marine-debris-aris3k-289.png: 640x448 1 Chain, 1 Drink-carton, 19.9ms\n",
      "Speed: 1.4ms preprocess, 19.9ms inference, 4.5ms postprocess per image at shape (1, 3, 640, 448)\n",
      "\n",
      "image 1/1 D:\\sonar seg\\ttv\\test\\images\\marine-debris-aris3k-349.png: 640x448 1 Can, 2 Walls, 9.4ms\n",
      "Speed: 1.4ms preprocess, 9.4ms inference, 2.1ms postprocess per image at shape (1, 3, 640, 448)\n",
      "\n",
      "image 1/1 D:\\sonar seg\\ttv\\test\\images\\marine-debris-aris3k-354.png: 640x448 1 Can, 1 Wall, 9.5ms\n",
      "Speed: 1.2ms preprocess, 9.5ms inference, 2.1ms postprocess per image at shape (1, 3, 640, 448)\n",
      "\n",
      "image 1/1 D:\\sonar seg\\ttv\\test\\images\\marine-debris-aris3k-355.png: 640x448 1 Valve, 1 Wall, 9.2ms\n",
      "Speed: 1.3ms preprocess, 9.2ms inference, 2.1ms postprocess per image at shape (1, 3, 640, 448)\n",
      "\n",
      "image 1/1 D:\\sonar seg\\ttv\\test\\images\\marine-debris-aris3k-366.png: 640x448 2 Drink-cartons, 19.9ms\n",
      "Speed: 1.3ms preprocess, 19.9ms inference, 4.3ms postprocess per image at shape (1, 3, 640, 448)\n"
     ]
    },
    {
     "name": "stderr",
     "output_type": "stream",
     "text": [
      "Evaluating model:  60%|█████▉    | 118/197 [00:03<00:01, 40.75it/s]"
     ]
    },
    {
     "name": "stdout",
     "output_type": "stream",
     "text": [
      "\n",
      "image 1/1 D:\\sonar seg\\ttv\\test\\images\\marine-debris-aris3k-369.png: 640x448 1 Drink-carton, 1 Tire, 1 Wall, 9.5ms\n",
      "Speed: 1.2ms preprocess, 9.5ms inference, 2.0ms postprocess per image at shape (1, 3, 640, 448)\n",
      "\n",
      "image 1/1 D:\\sonar seg\\ttv\\test\\images\\marine-debris-aris3k-37.png: 640x448 1 Valve, 1 Wall, 9.5ms\n",
      "Speed: 1.3ms preprocess, 9.5ms inference, 2.1ms postprocess per image at shape (1, 3, 640, 448)\n",
      "\n",
      "image 1/1 D:\\sonar seg\\ttv\\test\\images\\marine-debris-aris3k-386.png: 640x448 1 Bottle, 1 Can, 9.3ms\n",
      "Speed: 1.3ms preprocess, 9.3ms inference, 2.1ms postprocess per image at shape (1, 3, 640, 448)\n",
      "\n",
      "image 1/1 D:\\sonar seg\\ttv\\test\\images\\marine-debris-aris3k-399.png: 640x448 1 Shampoo-bottle, 1 Wall, 13.8ms\n",
      "Speed: 1.7ms preprocess, 13.8ms inference, 2.8ms postprocess per image at shape (1, 3, 640, 448)\n",
      "\n",
      "image 1/1 D:\\sonar seg\\ttv\\test\\images\\marine-debris-aris3k-408.png: 640x448 2 Cans, 9.4ms\n",
      "Speed: 1.3ms preprocess, 9.4ms inference, 2.0ms postprocess per image at shape (1, 3, 640, 448)\n"
     ]
    },
    {
     "name": "stderr",
     "output_type": "stream",
     "text": [
      "Evaluating model:  62%|██████▏   | 123/197 [00:03<00:01, 41.87it/s]"
     ]
    },
    {
     "name": "stdout",
     "output_type": "stream",
     "text": [
      "\n",
      "image 1/1 D:\\sonar seg\\ttv\\test\\images\\marine-debris-aris3k-410.png: 640x448 1 Valve, 10.4ms\n",
      "Speed: 1.3ms preprocess, 10.4ms inference, 2.3ms postprocess per image at shape (1, 3, 640, 448)\n",
      "\n",
      "image 1/1 D:\\sonar seg\\ttv\\test\\images\\marine-debris-aris3k-418.png: 640x448 1 Bottle, 1 Valve, 9.3ms\n",
      "Speed: 1.3ms preprocess, 9.3ms inference, 2.0ms postprocess per image at shape (1, 3, 640, 448)\n",
      "\n",
      "image 1/1 D:\\sonar seg\\ttv\\test\\images\\marine-debris-aris3k-422.png: 640x448 1 Hook, 1 Propeller, 1 Tire, 1 Wall, 9.3ms\n",
      "Speed: 1.2ms preprocess, 9.3ms inference, 2.3ms postprocess per image at shape (1, 3, 640, 448)\n",
      "\n",
      "image 1/1 D:\\sonar seg\\ttv\\test\\images\\marine-debris-aris3k-431.png: 640x448 2 Cans, 9.3ms\n",
      "Speed: 1.3ms preprocess, 9.3ms inference, 2.0ms postprocess per image at shape (1, 3, 640, 448)\n",
      "\n",
      "image 1/1 D:\\sonar seg\\ttv\\test\\images\\marine-debris-aris3k-44.png: 640x448 1 Shampoo-bottle, 9.8ms\n",
      "Speed: 1.3ms preprocess, 9.8ms inference, 2.0ms postprocess per image at shape (1, 3, 640, 448)\n"
     ]
    },
    {
     "name": "stderr",
     "output_type": "stream",
     "text": [
      "Evaluating model:  65%|██████▍   | 128/197 [00:03<00:01, 43.05it/s]"
     ]
    },
    {
     "name": "stdout",
     "output_type": "stream",
     "text": [
      "\n",
      "image 1/1 D:\\sonar seg\\ttv\\test\\images\\marine-debris-aris3k-445.png: 640x448 1 Standing-bottle, 2 Walls, 10.4ms\n",
      "Speed: 1.2ms preprocess, 10.4ms inference, 2.1ms postprocess per image at shape (1, 3, 640, 448)\n",
      "\n",
      "image 1/1 D:\\sonar seg\\ttv\\test\\images\\marine-debris-aris3k-455.png: 640x448 1 Propeller, 9.4ms\n",
      "Speed: 1.5ms preprocess, 9.4ms inference, 2.1ms postprocess per image at shape (1, 3, 640, 448)\n",
      "\n",
      "image 1/1 D:\\sonar seg\\ttv\\test\\images\\marine-debris-aris3k-46.png: 640x448 1 Shampoo-bottle, 9.1ms\n",
      "Speed: 1.5ms preprocess, 9.1ms inference, 2.2ms postprocess per image at shape (1, 3, 640, 448)\n",
      "\n",
      "image 1/1 D:\\sonar seg\\ttv\\test\\images\\marine-debris-aris3k-472.png: 640x448 1 Drink-carton, 10.3ms\n",
      "Speed: 1.8ms preprocess, 10.3ms inference, 2.8ms postprocess per image at shape (1, 3, 640, 448)\n",
      "\n",
      "image 1/1 D:\\sonar seg\\ttv\\test\\images\\marine-debris-aris3k-474.png: 640x448 1 Tire, 12.2ms\n",
      "Speed: 2.5ms preprocess, 12.2ms inference, 2.4ms postprocess per image at shape (1, 3, 640, 448)\n"
     ]
    },
    {
     "name": "stderr",
     "output_type": "stream",
     "text": [
      "Evaluating model:  68%|██████▊   | 133/197 [00:03<00:01, 42.67it/s]"
     ]
    },
    {
     "name": "stdout",
     "output_type": "stream",
     "text": [
      "\n",
      "image 1/1 D:\\sonar seg\\ttv\\test\\images\\marine-debris-aris3k-499.png: 640x448 1 Bottle, 1 Can, 10.4ms\n",
      "Speed: 1.5ms preprocess, 10.4ms inference, 2.1ms postprocess per image at shape (1, 3, 640, 448)\n",
      "\n",
      "image 1/1 D:\\sonar seg\\ttv\\test\\images\\marine-debris-aris3k-531.png: 640x448 1 Drink-carton, 1 Tire, 1 Wall, 20.0ms\n",
      "Speed: 1.9ms preprocess, 20.0ms inference, 4.3ms postprocess per image at shape (1, 3, 640, 448)\n",
      "\n",
      "image 1/1 D:\\sonar seg\\ttv\\test\\images\\marine-debris-aris3k-552.png: 640x448 1 Bottle, 1 Tire, 9.3ms\n",
      "Speed: 1.2ms preprocess, 9.3ms inference, 1.9ms postprocess per image at shape (1, 3, 640, 448)\n",
      "\n",
      "image 1/1 D:\\sonar seg\\ttv\\test\\images\\marine-debris-aris3k-558.png: 640x448 1 Valve, 1 Wall, 9.8ms\n",
      "Speed: 1.2ms preprocess, 9.8ms inference, 2.0ms postprocess per image at shape (1, 3, 640, 448)\n",
      "\n",
      "image 1/1 D:\\sonar seg\\ttv\\test\\images\\marine-debris-aris3k-559.png: 640x448 1 Drink-carton, 1 Tire, 1 Wall, 9.3ms\n",
      "Speed: 1.3ms preprocess, 9.3ms inference, 2.2ms postprocess per image at shape (1, 3, 640, 448)\n"
     ]
    },
    {
     "name": "stderr",
     "output_type": "stream",
     "text": [
      "Evaluating model:  70%|███████   | 138/197 [00:03<00:01, 41.92it/s]"
     ]
    },
    {
     "name": "stdout",
     "output_type": "stream",
     "text": [
      "\n",
      "image 1/1 D:\\sonar seg\\ttv\\test\\images\\marine-debris-aris3k-563.png: 640x448 1 Chain, 1 Drink-carton, 9.3ms\n",
      "Speed: 1.3ms preprocess, 9.3ms inference, 2.1ms postprocess per image at shape (1, 3, 640, 448)\n",
      "\n",
      "image 1/1 D:\\sonar seg\\ttv\\test\\images\\marine-debris-aris3k-566.png: 640x448 1 Drink-carton, 1 Tire, 1 Wall, 9.4ms\n",
      "Speed: 1.3ms preprocess, 9.4ms inference, 2.2ms postprocess per image at shape (1, 3, 640, 448)\n",
      "\n",
      "image 1/1 D:\\sonar seg\\ttv\\test\\images\\marine-debris-aris3k-572.png: 640x448 1 Chain, 1 Drink-carton, 9.5ms\n",
      "Speed: 1.2ms preprocess, 9.5ms inference, 2.1ms postprocess per image at shape (1, 3, 640, 448)\n",
      "\n",
      "image 1/1 D:\\sonar seg\\ttv\\test\\images\\marine-debris-aris3k-573.png: 640x448 1 Chain, 2 Walls, 9.6ms\n",
      "Speed: 1.6ms preprocess, 9.6ms inference, 2.1ms postprocess per image at shape (1, 3, 640, 448)\n",
      "\n",
      "image 1/1 D:\\sonar seg\\ttv\\test\\images\\marine-debris-aris3k-580.png: 640x448 1 Drink-carton, 1 Wall, 9.6ms\n",
      "Speed: 1.2ms preprocess, 9.6ms inference, 2.1ms postprocess per image at shape (1, 3, 640, 448)\n"
     ]
    },
    {
     "name": "stderr",
     "output_type": "stream",
     "text": [
      "Evaluating model:  73%|███████▎  | 143/197 [00:03<00:01, 43.46it/s]"
     ]
    },
    {
     "name": "stdout",
     "output_type": "stream",
     "text": [
      "\n",
      "image 1/1 D:\\sonar seg\\ttv\\test\\images\\marine-debris-aris3k-588.png: 640x448 1 Drink-carton, 1 Tire, 1 Wall, 9.3ms\n",
      "Speed: 1.3ms preprocess, 9.3ms inference, 1.9ms postprocess per image at shape (1, 3, 640, 448)\n",
      "\n",
      "image 1/1 D:\\sonar seg\\ttv\\test\\images\\marine-debris-aris3k-59.png: 640x448 1 Shampoo-bottle, 23.4ms\n",
      "Speed: 1.9ms preprocess, 23.4ms inference, 2.9ms postprocess per image at shape (1, 3, 640, 448)\n",
      "\n",
      "image 1/1 D:\\sonar seg\\ttv\\test\\images\\marine-debris-aris3k-60.png: 640x448 1 Can, 2 Walls, 17.7ms\n",
      "Speed: 1.3ms preprocess, 17.7ms inference, 4.6ms postprocess per image at shape (1, 3, 640, 448)\n",
      "\n",
      "image 1/1 D:\\sonar seg\\ttv\\test\\images\\marine-debris-aris3k-602.png: 640x448 2 Cans, 1 Wall, 9.5ms\n",
      "Speed: 1.2ms preprocess, 9.5ms inference, 2.0ms postprocess per image at shape (1, 3, 640, 448)\n",
      "\n",
      "image 1/1 D:\\sonar seg\\ttv\\test\\images\\marine-debris-aris3k-612.png: 640x448 1 Chain, 9.5ms\n",
      "Speed: 1.3ms preprocess, 9.5ms inference, 1.9ms postprocess per image at shape (1, 3, 640, 448)\n"
     ]
    },
    {
     "name": "stderr",
     "output_type": "stream",
     "text": [
      "Evaluating model:  75%|███████▌  | 148/197 [00:03<00:01, 41.52it/s]"
     ]
    },
    {
     "name": "stdout",
     "output_type": "stream",
     "text": [
      "\n",
      "image 1/1 D:\\sonar seg\\ttv\\test\\images\\marine-debris-aris3k-631.png: 640x448 1 Standing-bottle, 2 Walls, 9.7ms\n",
      "Speed: 1.2ms preprocess, 9.7ms inference, 2.5ms postprocess per image at shape (1, 3, 640, 448)\n",
      "\n",
      "image 1/1 D:\\sonar seg\\ttv\\test\\images\\marine-debris-aris3k-633.png: 640x448 1 Hook, 1 Propeller, 1 Tire, 9.8ms\n",
      "Speed: 1.3ms preprocess, 9.8ms inference, 2.0ms postprocess per image at shape (1, 3, 640, 448)\n",
      "\n",
      "image 1/1 D:\\sonar seg\\ttv\\test\\images\\marine-debris-aris3k-648.png: 640x448 1 Shampoo-bottle, 2 Walls, 9.5ms\n",
      "Speed: 1.3ms preprocess, 9.5ms inference, 2.1ms postprocess per image at shape (1, 3, 640, 448)\n",
      "\n",
      "image 1/1 D:\\sonar seg\\ttv\\test\\images\\marine-debris-aris3k-65.png: 640x448 2 Cans, 1 Wall, 9.7ms\n",
      "Speed: 1.2ms preprocess, 9.7ms inference, 2.1ms postprocess per image at shape (1, 3, 640, 448)\n",
      "\n",
      "image 1/1 D:\\sonar seg\\ttv\\test\\images\\marine-debris-aris3k-652.png: 640x448 1 Chain, 1 Drink-carton, 9.2ms\n",
      "Speed: 1.4ms preprocess, 9.2ms inference, 2.1ms postprocess per image at shape (1, 3, 640, 448)\n"
     ]
    },
    {
     "name": "stderr",
     "output_type": "stream",
     "text": [
      "Evaluating model:  78%|███████▊  | 153/197 [00:03<00:01, 43.07it/s]"
     ]
    },
    {
     "name": "stdout",
     "output_type": "stream",
     "text": [
      "\n",
      "image 1/1 D:\\sonar seg\\ttv\\test\\images\\marine-debris-aris3k-654.png: 640x448 1 Bottle, 1 Tire, 21.5ms\n",
      "Speed: 1.6ms preprocess, 21.5ms inference, 6.0ms postprocess per image at shape (1, 3, 640, 448)\n",
      "\n",
      "image 1/1 D:\\sonar seg\\ttv\\test\\images\\marine-debris-aris3k-679.png: 640x448 1 Chain, 1 Tire, 10.0ms\n",
      "Speed: 1.7ms preprocess, 10.0ms inference, 2.0ms postprocess per image at shape (1, 3, 640, 448)\n",
      "\n",
      "image 1/1 D:\\sonar seg\\ttv\\test\\images\\marine-debris-aris3k-684.png: 640x448 2 Bottles, 1 Tire, 1 Wall, 10.1ms\n",
      "Speed: 1.8ms preprocess, 10.1ms inference, 3.6ms postprocess per image at shape (1, 3, 640, 448)\n",
      "\n",
      "image 1/1 D:\\sonar seg\\ttv\\test\\images\\marine-debris-aris3k-695.png: 640x448 1 Bottle, 1 Can, 22.5ms\n",
      "Speed: 1.7ms preprocess, 22.5ms inference, 4.8ms postprocess per image at shape (1, 3, 640, 448)\n",
      "\n",
      "image 1/1 D:\\sonar seg\\ttv\\test\\images\\marine-debris-aris3k-700.png: 640x448 1 Drink-carton, 1 Tire, 1 Wall, 12.2ms\n",
      "Speed: 1.7ms preprocess, 12.2ms inference, 4.5ms postprocess per image at shape (1, 3, 640, 448)\n"
     ]
    },
    {
     "name": "stderr",
     "output_type": "stream",
     "text": [
      "Evaluating model:  80%|████████  | 158/197 [00:04<00:01, 37.93it/s]"
     ]
    },
    {
     "name": "stdout",
     "output_type": "stream",
     "text": [
      "\n",
      "image 1/1 D:\\sonar seg\\ttv\\test\\images\\marine-debris-aris3k-701.png: 640x448 2 Chains, 1 Drink-carton, 25.3ms\n",
      "Speed: 1.8ms preprocess, 25.3ms inference, 4.3ms postprocess per image at shape (1, 3, 640, 448)\n",
      "\n",
      "image 1/1 D:\\sonar seg\\ttv\\test\\images\\marine-debris-aris3k-702.png: 640x448 1 Hook, 1 Tire, 22.8ms\n",
      "Speed: 2.8ms preprocess, 22.8ms inference, 4.7ms postprocess per image at shape (1, 3, 640, 448)\n",
      "\n",
      "image 1/1 D:\\sonar seg\\ttv\\test\\images\\marine-debris-aris3k-711.png: 640x448 1 Hook, 1 Propeller, 1 Wall, 10.5ms\n",
      "Speed: 1.7ms preprocess, 10.5ms inference, 2.4ms postprocess per image at shape (1, 3, 640, 448)\n",
      "\n",
      "image 1/1 D:\\sonar seg\\ttv\\test\\images\\marine-debris-aris3k-718.png: 640x448 1 Bottle, 1 Tire, 10.6ms\n",
      "Speed: 1.8ms preprocess, 10.6ms inference, 2.2ms postprocess per image at shape (1, 3, 640, 448)\n"
     ]
    },
    {
     "name": "stderr",
     "output_type": "stream",
     "text": [
      "Evaluating model:  82%|████████▏ | 162/197 [00:04<00:00, 35.35it/s]"
     ]
    },
    {
     "name": "stdout",
     "output_type": "stream",
     "text": [
      "\n",
      "image 1/1 D:\\sonar seg\\ttv\\test\\images\\marine-debris-aris3k-725.png: 640x448 3 Cans, 1 Wall, 10.4ms\n",
      "Speed: 1.4ms preprocess, 10.4ms inference, 2.6ms postprocess per image at shape (1, 3, 640, 448)\n",
      "\n",
      "image 1/1 D:\\sonar seg\\ttv\\test\\images\\marine-debris-aris3k-735.png: 640x448 1 Valve, 1 Wall, 23.0ms\n",
      "Speed: 2.1ms preprocess, 23.0ms inference, 6.3ms postprocess per image at shape (1, 3, 640, 448)\n",
      "\n",
      "image 1/1 D:\\sonar seg\\ttv\\test\\images\\marine-debris-aris3k-738.png: 640x448 1 Drink-carton, 1 Tire, 1 Wall, 10.9ms\n",
      "Speed: 1.4ms preprocess, 10.9ms inference, 2.4ms postprocess per image at shape (1, 3, 640, 448)\n",
      "\n",
      "image 1/1 D:\\sonar seg\\ttv\\test\\images\\marine-debris-aris3k-742.png: 640x448 1 Bottle, 1 Tire, 10.7ms\n",
      "Speed: 2.0ms preprocess, 10.7ms inference, 2.1ms postprocess per image at shape (1, 3, 640, 448)\n"
     ]
    },
    {
     "name": "stderr",
     "output_type": "stream",
     "text": [
      "Evaluating model:  84%|████████▍ | 166/197 [00:04<00:00, 34.53it/s]"
     ]
    },
    {
     "name": "stdout",
     "output_type": "stream",
     "text": [
      "\n",
      "image 1/1 D:\\sonar seg\\ttv\\test\\images\\marine-debris-aris3k-755.png: 640x448 1 Bottle, 1 Tire, 10.2ms\n",
      "Speed: 1.3ms preprocess, 10.2ms inference, 2.4ms postprocess per image at shape (1, 3, 640, 448)\n",
      "\n",
      "image 1/1 D:\\sonar seg\\ttv\\test\\images\\marine-debris-aris3k-757.png: 640x448 1 Bottle, 1 Can, 24.5ms\n",
      "Speed: 2.1ms preprocess, 24.5ms inference, 4.8ms postprocess per image at shape (1, 3, 640, 448)\n",
      "\n",
      "image 1/1 D:\\sonar seg\\ttv\\test\\images\\marine-debris-aris3k-76.png: 640x448 1 Bottle, 1 Tire, 10.2ms\n",
      "Speed: 1.4ms preprocess, 10.2ms inference, 3.5ms postprocess per image at shape (1, 3, 640, 448)\n",
      "\n",
      "image 1/1 D:\\sonar seg\\ttv\\test\\images\\marine-debris-aris3k-760.png: 640x448 1 Drink-carton, 1 Tire, 1 Wall, 10.5ms\n",
      "Speed: 1.7ms preprocess, 10.5ms inference, 2.8ms postprocess per image at shape (1, 3, 640, 448)\n"
     ]
    },
    {
     "name": "stderr",
     "output_type": "stream",
     "text": [
      "Evaluating model:  86%|████████▋ | 170/197 [00:04<00:00, 34.05it/s]"
     ]
    },
    {
     "name": "stdout",
     "output_type": "stream",
     "text": [
      "\n",
      "image 1/1 D:\\sonar seg\\ttv\\test\\images\\marine-debris-aris3k-779.png: 640x448 2 Bottles, 1 Valve, 1 Wall, 12.1ms\n",
      "Speed: 2.2ms preprocess, 12.1ms inference, 3.9ms postprocess per image at shape (1, 3, 640, 448)\n",
      "\n",
      "image 1/1 D:\\sonar seg\\ttv\\test\\images\\marine-debris-aris3k-786.png: 640x448 1 Bottle, 11.7ms\n",
      "Speed: 2.1ms preprocess, 11.7ms inference, 2.5ms postprocess per image at shape (1, 3, 640, 448)\n",
      "\n",
      "image 1/1 D:\\sonar seg\\ttv\\test\\images\\marine-debris-aris3k-793.png: 640x448 1 Drink-carton, 1 Tire, 1 Wall, 29.7ms\n",
      "Speed: 2.4ms preprocess, 29.7ms inference, 6.9ms postprocess per image at shape (1, 3, 640, 448)\n",
      "\n",
      "image 1/1 D:\\sonar seg\\ttv\\test\\images\\marine-debris-aris3k-801.png: 640x448 1 Standing-bottle, 2 Walls, 17.2ms\n",
      "Speed: 3.3ms preprocess, 17.2ms inference, 6.6ms postprocess per image at shape (1, 3, 640, 448)\n"
     ]
    },
    {
     "name": "stderr",
     "output_type": "stream",
     "text": [
      "Evaluating model:  88%|████████▊ | 174/197 [00:04<00:00, 31.11it/s]"
     ]
    },
    {
     "name": "stdout",
     "output_type": "stream",
     "text": [
      "\n",
      "image 1/1 D:\\sonar seg\\ttv\\test\\images\\marine-debris-aris3k-803.png: 640x448 1 Can, 1 Wall, 22.2ms\n",
      "Speed: 4.0ms preprocess, 22.2ms inference, 9.0ms postprocess per image at shape (1, 3, 640, 448)\n",
      "\n",
      "image 1/1 D:\\sonar seg\\ttv\\test\\images\\marine-debris-aris3k-806.png: 640x448 1 Hook, 1 Propeller, 1 Tire, 1 Wall, 21.3ms\n",
      "Speed: 2.9ms preprocess, 21.3ms inference, 4.9ms postprocess per image at shape (1, 3, 640, 448)\n",
      "\n",
      "image 1/1 D:\\sonar seg\\ttv\\test\\images\\marine-debris-aris3k-807.png: 640x448 1 Propeller, 1 Wall, 11.8ms\n",
      "Speed: 2.4ms preprocess, 11.8ms inference, 2.5ms postprocess per image at shape (1, 3, 640, 448)\n",
      "\n",
      "image 1/1 D:\\sonar seg\\ttv\\test\\images\\marine-debris-aris3k-813.png: 640x448 1 Hook, 1 Propeller, 1 Wall, 12.7ms\n",
      "Speed: 2.6ms preprocess, 12.7ms inference, 2.5ms postprocess per image at shape (1, 3, 640, 448)\n"
     ]
    },
    {
     "name": "stderr",
     "output_type": "stream",
     "text": [
      "Evaluating model:  90%|█████████ | 178/197 [00:04<00:00, 28.85it/s]"
     ]
    },
    {
     "name": "stdout",
     "output_type": "stream",
     "text": [
      "\n",
      "image 1/1 D:\\sonar seg\\ttv\\test\\images\\marine-debris-aris3k-815.png: 640x448 1 Standing-bottle, 2 Walls, 11.7ms\n",
      "Speed: 1.8ms preprocess, 11.7ms inference, 4.1ms postprocess per image at shape (1, 3, 640, 448)\n",
      "\n",
      "image 1/1 D:\\sonar seg\\ttv\\test\\images\\marine-debris-aris3k-822.png: 640x448 1 Bottle, 1 Can, 14.7ms\n",
      "Speed: 1.5ms preprocess, 14.7ms inference, 3.1ms postprocess per image at shape (1, 3, 640, 448)\n",
      "\n",
      "image 1/1 D:\\sonar seg\\ttv\\test\\images\\marine-debris-aris3k-830.png: 640x448 1 Can, 2 Walls, 12.8ms\n",
      "Speed: 3.7ms preprocess, 12.8ms inference, 2.8ms postprocess per image at shape (1, 3, 640, 448)\n",
      "\n",
      "image 1/1 D:\\sonar seg\\ttv\\test\\images\\marine-debris-aris3k-852.png: 640x448 1 Valve, 11.7ms\n",
      "Speed: 1.7ms preprocess, 11.7ms inference, 2.6ms postprocess per image at shape (1, 3, 640, 448)\n"
     ]
    },
    {
     "name": "stderr",
     "output_type": "stream",
     "text": [
      "Evaluating model:  92%|█████████▏| 182/197 [00:04<00:00, 30.21it/s]"
     ]
    },
    {
     "name": "stdout",
     "output_type": "stream",
     "text": [
      "\n",
      "image 1/1 D:\\sonar seg\\ttv\\test\\images\\marine-debris-aris3k-869.png: 640x448 1 Hook, 1 Tire, 1 Wall, 11.4ms\n",
      "Speed: 2.2ms preprocess, 11.4ms inference, 2.4ms postprocess per image at shape (1, 3, 640, 448)\n",
      "\n",
      "image 1/1 D:\\sonar seg\\ttv\\test\\images\\marine-debris-aris3k-877.png: 640x448 1 Shampoo-bottle, 11.9ms\n",
      "Speed: 1.8ms preprocess, 11.9ms inference, 3.2ms postprocess per image at shape (1, 3, 640, 448)\n",
      "\n",
      "image 1/1 D:\\sonar seg\\ttv\\test\\images\\marine-debris-aris3k-885.png: 640x448 1 Chain, 1 Tire, 12.9ms\n",
      "Speed: 2.5ms preprocess, 12.9ms inference, 2.6ms postprocess per image at shape (1, 3, 640, 448)\n",
      "\n",
      "image 1/1 D:\\sonar seg\\ttv\\test\\images\\marine-debris-aris3k-890.png: 640x448 1 Can, 1 Wall, 13.5ms\n",
      "Speed: 1.6ms preprocess, 13.5ms inference, 5.5ms postprocess per image at shape (1, 3, 640, 448)\n"
     ]
    },
    {
     "name": "stderr",
     "output_type": "stream",
     "text": [
      "Evaluating model:  94%|█████████▍| 186/197 [00:05<00:00, 31.49it/s]"
     ]
    },
    {
     "name": "stdout",
     "output_type": "stream",
     "text": [
      "\n",
      "image 1/1 D:\\sonar seg\\ttv\\test\\images\\marine-debris-aris3k-899.png: 640x448 1 Bottle, 1 Tire, 17.0ms\n",
      "Speed: 2.4ms preprocess, 17.0ms inference, 3.6ms postprocess per image at shape (1, 3, 640, 448)\n",
      "\n",
      "image 1/1 D:\\sonar seg\\ttv\\test\\images\\marine-debris-aris3k-902.png: 640x448 1 Chain, 1 Wall, 16.9ms\n",
      "Speed: 2.1ms preprocess, 16.9ms inference, 3.9ms postprocess per image at shape (1, 3, 640, 448)\n",
      "\n",
      "image 1/1 D:\\sonar seg\\ttv\\test\\images\\marine-debris-aris3k-906.png: 640x448 1 Drink-carton, 1 Tire, 1 Wall, 12.0ms\n",
      "Speed: 2.4ms preprocess, 12.0ms inference, 2.3ms postprocess per image at shape (1, 3, 640, 448)\n",
      "\n",
      "image 1/1 D:\\sonar seg\\ttv\\test\\images\\marine-debris-aris3k-929.png: 640x448 2 Chains, 1 Drink-carton, 23.1ms\n",
      "Speed: 2.0ms preprocess, 23.1ms inference, 6.0ms postprocess per image at shape (1, 3, 640, 448)\n"
     ]
    },
    {
     "name": "stderr",
     "output_type": "stream",
     "text": [
      "Evaluating model:  96%|█████████▋| 190/197 [00:05<00:00, 30.29it/s]"
     ]
    },
    {
     "name": "stdout",
     "output_type": "stream",
     "text": [
      "\n",
      "image 1/1 D:\\sonar seg\\ttv\\test\\images\\marine-debris-aris3k-959.png: 640x448 1 Valve, 1 Wall, 11.0ms\n",
      "Speed: 1.4ms preprocess, 11.0ms inference, 2.1ms postprocess per image at shape (1, 3, 640, 448)\n",
      "\n",
      "image 1/1 D:\\sonar seg\\ttv\\test\\images\\marine-debris-aris3k-964.png: 640x448 1 Bottle, 1 Tire, 12.0ms\n",
      "Speed: 2.5ms preprocess, 12.0ms inference, 2.2ms postprocess per image at shape (1, 3, 640, 448)\n",
      "\n",
      "image 1/1 D:\\sonar seg\\ttv\\test\\images\\marine-debris-aris3k-965.png: 640x448 1 Valve, 1 Wall, 11.3ms\n",
      "Speed: 1.7ms preprocess, 11.3ms inference, 2.8ms postprocess per image at shape (1, 3, 640, 448)\n",
      "\n",
      "image 1/1 D:\\sonar seg\\ttv\\test\\images\\marine-debris-aris3k-99.png: 640x448 1 Can, 1 Wall, 11.8ms\n",
      "Speed: 1.5ms preprocess, 11.8ms inference, 2.9ms postprocess per image at shape (1, 3, 640, 448)\n"
     ]
    },
    {
     "name": "stderr",
     "output_type": "stream",
     "text": [
      "Evaluating model:  98%|█████████▊| 194/197 [00:05<00:00, 31.86it/s]"
     ]
    },
    {
     "name": "stdout",
     "output_type": "stream",
     "text": [
      "\n",
      "image 1/1 D:\\sonar seg\\ttv\\test\\images\\marine-debris-aris3k-990.png: 640x448 1 Chain, 1 Tire, 10.6ms\n",
      "Speed: 1.4ms preprocess, 10.6ms inference, 2.8ms postprocess per image at shape (1, 3, 640, 448)\n",
      "\n",
      "image 1/1 D:\\sonar seg\\ttv\\test\\images\\marine-debris-aris3k-994.png: 640x448 1 Chain, 1 Drink-carton, 1 Hook, 1 Propeller, 1 Tire, 11.8ms\n",
      "Speed: 1.6ms preprocess, 11.8ms inference, 3.7ms postprocess per image at shape (1, 3, 640, 448)\n",
      "\n",
      "image 1/1 D:\\sonar seg\\ttv\\test\\images\\marine-debris-aris3k-998.png: 640x448 1 Chain, 1 Wall, 11.5ms\n",
      "Speed: 1.8ms preprocess, 11.5ms inference, 2.9ms postprocess per image at shape (1, 3, 640, 448)\n"
     ]
    },
    {
     "name": "stderr",
     "output_type": "stream",
     "text": [
      "Evaluating model: 100%|██████████| 197/197 [00:05<00:00, 36.67it/s]"
     ]
    },
    {
     "name": "stdout",
     "output_type": "stream",
     "text": [
      "Average Pixel Accuracy: 0.6683\n",
      "Average IoU: 0.0000\n"
     ]
    },
    {
     "name": "stderr",
     "output_type": "stream",
     "text": [
      "\n"
     ]
    },
    {
     "data": {
      "text/plain": [
       "<Figure size 800x600 with 2 Axes>"
      ]
     },
     "metadata": {},
     "output_type": "display_data"
    },
    {
     "data": {
      "text/plain": [
       "<Figure size 1200x600 with 2 Axes>"
      ]
     },
     "metadata": {},
     "output_type": "display_data"
    }
   ],
   "source": [
    "import os\n",
    "import numpy as np\n",
    "import cv2\n",
    "import matplotlib.pyplot as plt\n",
    "from sklearn.metrics import confusion_matrix\n",
    "from tqdm import tqdm\n",
    "\n",
    "# Paths to directories\n",
    "TEST_IMAGES_DIR = r\"D:\\sonar seg\\ttv\\test\\images\"\n",
    "TEST_LABELS_DIR = r\"D:\\sonar seg\\ttv\\test\\labels\"\n",
    "PREDICTED_MASKS_DIR = r\"D:\\sonar seg\\ttv\\test\\results\\predict\"\n",
    "\n",
    "# Function to convert YOLO label to segmentation mask\n",
    "def yolo_label_to_mask(label_path, image_shape):\n",
    "    mask = np.zeros(image_shape, dtype=np.uint8)\n",
    "    with open(label_path, 'r') as f:\n",
    "        for line in f:\n",
    "            parts = list(map(float, line.strip().split()))\n",
    "            if len(parts) >= 5:  # Ensure there are at least 5 values (class_id, x_center, y_center, width, height)\n",
    "                # Get the normalized coordinates (x_center, y_center, width, height)\n",
    "                x_center, y_center, width, height = parts[1:5]  # Ignore additional values if any\n",
    "                # Convert to pixel coordinates\n",
    "                x_center = int(x_center * image_shape[1])\n",
    "                y_center = int(y_center * image_shape[0])\n",
    "                width = int(width * image_shape[1])\n",
    "                height = int(height * image_shape[0])\n",
    "                \n",
    "                # Create a bounding box polygon (assuming rectangular masks)\n",
    "                x1 = x_center - width // 2\n",
    "                y1 = y_center - height // 2\n",
    "                x2 = x_center + width // 2\n",
    "                y2 = y_center + height // 2\n",
    "\n",
    "                # Draw the polygon (bounding box) to the mask\n",
    "                cv2.rectangle(mask, (x1, y1), (x2, y2), 1, -1)  # Assuming binary mask\n",
    "    return mask\n",
    "\n",
    "# Function to calculate pixel accuracy\n",
    "def pixel_accuracy(true_mask, pred_mask):\n",
    "    correct = np.sum(true_mask == pred_mask)\n",
    "    total = true_mask.size\n",
    "    return correct / total\n",
    "\n",
    "# Function to calculate IoU (Intersection over Union)\n",
    "def iou(true_mask, pred_mask):\n",
    "    intersection = np.sum((true_mask == 1) & (pred_mask == 1))\n",
    "    union = np.sum((true_mask == 1) | (pred_mask == 1))\n",
    "    return intersection / union if union != 0 else 0\n",
    "\n",
    "# Initialize lists for true and predicted masks\n",
    "true_masks = []\n",
    "pred_masks = []\n",
    "\n",
    "# Iterate through the test set and calculate accuracy and IoU\n",
    "for image_name in tqdm(os.listdir(TEST_IMAGES_DIR), desc=\"Evaluating model\"):\n",
    "    if image_name.endswith(('.jpg', '.png')):\n",
    "        image_path = os.path.join(TEST_IMAGES_DIR, image_name)\n",
    "        label_path = os.path.join(TEST_LABELS_DIR, image_name.replace(\".jpg\", \".txt\").replace(\".png\", \".txt\"))\n",
    "        \n",
    "        # Read the image\n",
    "        image = cv2.imread(image_path)\n",
    "        image_shape = image.shape[:2]  # Get image height and width\n",
    "\n",
    "        # Generate the ground truth mask from YOLO label file\n",
    "        true_mask = yolo_label_to_mask(label_path, image_shape)\n",
    "\n",
    "        # Perform inference on the image\n",
    "        results = model(image_path)  # Assuming model is loaded and ready to use\n",
    "\n",
    "        # Extract the predicted mask (segmentation output)\n",
    "        pred_mask = results[0].masks[0]  # This is likely a Masks object\n",
    "\n",
    "        # Access the actual mask data from the Masks object\n",
    "        pred_mask_data = pred_mask.data.cpu().numpy()  # If it is a PyTorch tensor, convert to NumPy array\n",
    "\n",
    "        # Ensure pred_mask is binary (0 or 1) by thresholding\n",
    "        pred_mask_data = (pred_mask_data > 0.5).astype(np.uint8)  # Threshold the mask to binary\n",
    "\n",
    "        # If the mask has more than one channel, take the first channel\n",
    "        if pred_mask_data.ndim == 3:\n",
    "            pred_mask_data = pred_mask_data[:, :, 0]\n",
    "\n",
    "        # Resize predicted mask to match true mask dimensions\n",
    "        pred_mask_data_resized = cv2.resize(pred_mask_data, (true_mask.shape[1], true_mask.shape[0]), interpolation=cv2.INTER_NEAREST)\n",
    "\n",
    "        # Append the masks to the lists\n",
    "        true_masks.append(true_mask)\n",
    "        pred_masks.append(pred_mask_data_resized)\n",
    "\n",
    "# Calculate accuracy and IoU for the entire dataset\n",
    "pixel_accuracies = [pixel_accuracy(true, pred) for true, pred in zip(true_masks, pred_masks)]\n",
    "ious = [iou(true, pred) for true, pred in zip(true_masks, pred_masks)]\n",
    "\n",
    "# Average accuracy and IoU\n",
    "avg_pixel_accuracy = np.mean(pixel_accuracies)\n",
    "avg_iou = np.mean(ious)\n",
    "\n",
    "# Print the results\n",
    "print(f\"Average Pixel Accuracy: {avg_pixel_accuracy:.4f}\")\n",
    "print(f\"Average IoU: {avg_iou:.4f}\")\n",
    "\n",
    "# Optionally, plot the confusion matrix\n",
    "flat_true_masks = np.concatenate([mask.flatten() for mask in true_masks])\n",
    "flat_pred_masks = np.concatenate([mask.flatten() for mask in pred_masks])\n",
    "\n",
    "conf_matrix = confusion_matrix(flat_true_masks, flat_pred_masks)\n",
    "plt.figure(figsize=(8, 6))\n",
    "plt.imshow(conf_matrix, cmap=\"Blues\", interpolation=\"nearest\")\n",
    "plt.title(\"Confusion Matrix\")\n",
    "plt.colorbar()\n",
    "plt.xlabel(\"Predicted Labels\")\n",
    "plt.ylabel(\"True Labels\")\n",
    "plt.show()\n",
    "\n",
    "# Optionally, plot true vs predicted for an example\n",
    "example_idx = 0  # Choose an index to visualize\n",
    "plt.figure(figsize=(12, 6))\n",
    "\n",
    "plt.subplot(1, 2, 1)\n",
    "plt.imshow(true_masks[example_idx], cmap=\"gray\")\n",
    "plt.title(\"True Mask\")\n",
    "\n",
    "plt.subplot(1, 2, 2)\n",
    "plt.imshow(pred_masks[example_idx], cmap=\"gray\")\n",
    "plt.title(\"Predicted Mask\")\n",
    "\n",
    "plt.show()"
   ]
  }
 ],
 "metadata": {
  "kernelspec": {
   "display_name": "Python 3",
   "language": "python",
   "name": "python3"
  },
  "language_info": {
   "codemirror_mode": {
    "name": "ipython",
    "version": 3
   },
   "file_extension": ".py",
   "mimetype": "text/x-python",
   "name": "python",
   "nbconvert_exporter": "python",
   "pygments_lexer": "ipython3",
   "version": "3.11.9"
  }
 },
 "nbformat": 4,
 "nbformat_minor": 2
}
